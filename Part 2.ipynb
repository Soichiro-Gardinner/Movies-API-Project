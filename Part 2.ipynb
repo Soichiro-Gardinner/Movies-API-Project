{
 "cells": [
  {
   "cell_type": "markdown",
   "id": "f14b9b40",
   "metadata": {},
   "source": [
    "# **More Data** -pt2"
   ]
  },
  {
   "cell_type": "markdown",
   "id": "f5d7c417",
   "metadata": {},
   "source": [
    "Import Modules:"
   ]
  },
  {
   "cell_type": "code",
   "execution_count": 1,
   "id": "f813d93b",
   "metadata": {},
   "outputs": [],
   "source": [
    "import os\n",
    "import pandas as pd\n",
    "import json as js\n",
    "import tmdbsimple as md\n"
   ]
  },
  {
   "cell_type": "markdown",
   "id": "51ddd3f2",
   "metadata": {},
   "source": [
    "- Designate a folder to save your information:"
   ]
  },
  {
   "cell_type": "code",
   "execution_count": 2,
   "id": "7d41a07b",
   "metadata": {},
   "outputs": [],
   "source": [
    "OldFolder = 'Data'\n",
    "Folder = \"MoreData\""
   ]
  },
  {
   "cell_type": "markdown",
   "id": "7c6b8c8e",
   "metadata": {},
   "source": [
    "- Define the years you wish to retrieve:"
   ]
  },
  {
   "cell_type": "code",
   "execution_count": 3,
   "id": "2cce47c9",
   "metadata": {},
   "outputs": [],
   "source": [
    "Years = 'Number'"
   ]
  },
  {
   "cell_type": "markdown",
   "id": "28d06489",
   "metadata": {},
   "source": [
    "**Define any custom functions you will use:**"
   ]
  },
  {
   "cell_type": "markdown",
   "id": "a8c7bdbc",
   "metadata": {},
   "source": [
    "- Combine All the information we have extracted from the Last project to have it all available in one:"
   ]
  },
  {
   "cell_type": "code",
   "execution_count": 4,
   "id": "340ddbd3",
   "metadata": {},
   "outputs": [],
   "source": [
    "# This function will iterate on the OldFolder to find the csv files  \n",
    "## and then add them to the new one.\n",
    "\n",
    "def combine_csv(FOLDER, addHere):\n",
    "    csv_files = []  # List to store the CSV file paths\n",
    "\n",
    "    # Iterate through the files in the folder\n",
    "    for i in os.listdir(FOLDER):\n",
    "        \n",
    "        # Check if the file is a CSV file\n",
    "        if i.endswith('.gz'):\n",
    "            csv_files.append(pd.read_csv(file_path))  # Read CSV file into DataFrame\n",
    "            print(f\"{i} has been added to the list\")\n",
    "        else:\n",
    "            print(f\"Skipped {i}\")\n",
    "\n",
    "    # Concatenate the DataFrames vertically\n",
    "    combined_df = pd.concat(csv_files, axis=0, ignore_index=True)\n",
    "\n",
    "    # Write the combined DataFrame to a new CSV file\n",
    "    combined_df.to_csv(f'{addHere}/combined.csv', index=False)\n",
    "    \n",
    "    return combined_df"
   ]
  },
  {
   "cell_type": "code",
   "execution_count": 5,
   "id": "ca2c18a3",
   "metadata": {},
   "outputs": [
    {
     "name": "stdout",
     "output_type": "stream",
     "text": [
      "Skipped .ipynb_checkpoints\n"
     ]
    },
    {
     "ename": "NameError",
     "evalue": "name 'file_path' is not defined",
     "output_type": "error",
     "traceback": [
      "\u001b[1;31m---------------------------------------------------------------------------\u001b[0m",
      "\u001b[1;31mNameError\u001b[0m                                 Traceback (most recent call last)",
      "Cell \u001b[1;32mIn [5], line 2\u001b[0m\n\u001b[0;32m      1\u001b[0m \u001b[38;5;66;03m# Combine The Data:\u001b[39;00m\n\u001b[1;32m----> 2\u001b[0m combined_df \u001b[38;5;241m=\u001b[39m \u001b[43mcombine_csv\u001b[49m\u001b[43m(\u001b[49m\u001b[43mOldFolder\u001b[49m\u001b[43m,\u001b[49m\u001b[43m \u001b[49m\u001b[43mFolder\u001b[49m\u001b[43m)\u001b[49m\n\u001b[0;32m      3\u001b[0m combined_df\u001b[38;5;241m.\u001b[39mhead()\n",
      "Cell \u001b[1;32mIn [4], line 12\u001b[0m, in \u001b[0;36mcombine_csv\u001b[1;34m(FOLDER, addHere)\u001b[0m\n\u001b[0;32m      8\u001b[0m \u001b[38;5;28;01mfor\u001b[39;00m i \u001b[38;5;129;01min\u001b[39;00m os\u001b[38;5;241m.\u001b[39mlistdir(FOLDER):\n\u001b[0;32m      9\u001b[0m     \n\u001b[0;32m     10\u001b[0m     \u001b[38;5;66;03m# Check if the file is a CSV file\u001b[39;00m\n\u001b[0;32m     11\u001b[0m     \u001b[38;5;28;01mif\u001b[39;00m i\u001b[38;5;241m.\u001b[39mendswith(\u001b[38;5;124m'\u001b[39m\u001b[38;5;124m.gz\u001b[39m\u001b[38;5;124m'\u001b[39m):\n\u001b[1;32m---> 12\u001b[0m         csv_files\u001b[38;5;241m.\u001b[39mappend(pd\u001b[38;5;241m.\u001b[39mread_csv(\u001b[43mfile_path\u001b[49m))  \u001b[38;5;66;03m# Read CSV file into DataFrame\u001b[39;00m\n\u001b[0;32m     13\u001b[0m         \u001b[38;5;28mprint\u001b[39m(\u001b[38;5;124mf\u001b[39m\u001b[38;5;124m\"\u001b[39m\u001b[38;5;132;01m{\u001b[39;00mi\u001b[38;5;132;01m}\u001b[39;00m\u001b[38;5;124m has been added to the list\u001b[39m\u001b[38;5;124m\"\u001b[39m)\n\u001b[0;32m     14\u001b[0m     \u001b[38;5;28;01melse\u001b[39;00m:\n",
      "\u001b[1;31mNameError\u001b[0m: name 'file_path' is not defined"
     ]
    }
   ],
   "source": [
    "# Combine The Data:\n",
    "combined_df = combine_csv(OldFolder, Folder)\n",
    "combined_df.head()"
   ]
  },
  {
   "cell_type": "markdown",
   "id": "64137e9e",
   "metadata": {},
   "source": [
    "- **Create an OUTER loop for each year with a progress bar using tqdm_notebook:**"
   ]
  },
  {
   "cell_type": "code",
   "execution_count": null,
   "id": "5c809aeb",
   "metadata": {},
   "outputs": [],
   "source": []
  }
 ],
 "metadata": {
  "kernelspec": {
   "display_name": "Python (dojo-env)",
   "language": "python",
   "name": "dojo-env"
  },
  "language_info": {
   "codemirror_mode": {
    "name": "ipython",
    "version": 3
   },
   "file_extension": ".py",
   "mimetype": "text/x-python",
   "name": "python",
   "nbconvert_exporter": "python",
   "pygments_lexer": "ipython3",
   "version": "3.9.15"
  },
  "toc": {
   "base_numbering": 1,
   "nav_menu": {},
   "number_sections": true,
   "sideBar": true,
   "skip_h1_title": false,
   "title_cell": "Table of Contents",
   "title_sidebar": "Contents",
   "toc_cell": false,
   "toc_position": {},
   "toc_section_display": true,
   "toc_window_display": false
  }
 },
 "nbformat": 4,
 "nbformat_minor": 5
}
