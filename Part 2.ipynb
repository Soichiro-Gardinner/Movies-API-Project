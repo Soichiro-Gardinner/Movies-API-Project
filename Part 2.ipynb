{
 "cells": [
  {
   "cell_type": "markdown",
   "id": "f14b9b40",
   "metadata": {},
   "source": [
    "# **More Data** -pt2"
   ]
  },
  {
   "cell_type": "markdown",
   "id": "f5d7c417",
   "metadata": {},
   "source": [
    "Import Modules:"
   ]
  },
  {
   "cell_type": "code",
   "execution_count": 1,
   "id": "f813d93b",
   "metadata": {},
   "outputs": [],
   "source": [
    "import os\n",
    "import pandas as pd\n",
    "import json as js\n",
    "import tmdbsimple as md\n"
   ]
  },
  {
   "cell_type": "markdown",
   "id": "51ddd3f2",
   "metadata": {},
   "source": [
    "- Designate a folder to save your information:"
   ]
  },
  {
   "cell_type": "code",
   "execution_count": 15,
   "id": "7d41a07b",
   "metadata": {},
   "outputs": [],
   "source": [
    "OldFolder = 'Data'\n",
    "Folder = \"MoreData\""
   ]
  },
  {
   "cell_type": "markdown",
   "id": "7c6b8c8e",
   "metadata": {},
   "source": [
    "- Define the years you wish to retrieve:"
   ]
  },
  {
   "cell_type": "code",
   "execution_count": 16,
   "id": "2cce47c9",
   "metadata": {},
   "outputs": [],
   "source": [
    "Years = 'Number'"
   ]
  },
  {
   "cell_type": "markdown",
   "id": "28d06489",
   "metadata": {},
   "source": [
    "**Define any custom functions you will use:**"
   ]
  },
  {
   "cell_type": "markdown",
   "id": "a8c7bdbc",
   "metadata": {},
   "source": [
    "- Combine All the information we have extracted from the Last project to have it all available in one:"
   ]
  },
  {
   "cell_type": "code",
   "execution_count": 18,
   "id": "340ddbd3",
   "metadata": {},
   "outputs": [
    {
     "ename": "FileNotFoundError",
     "evalue": "[WinError 3] The system cannot find the path specified: '\\\\Data'",
     "output_type": "error",
     "traceback": [
      "\u001b[1;31m---------------------------------------------------------------------------\u001b[0m",
      "\u001b[1;31mFileNotFoundError\u001b[0m                         Traceback (most recent call last)",
      "Cell \u001b[1;32mIn [18], line 1\u001b[0m\n\u001b[1;32m----> 1\u001b[0m \u001b[38;5;28;01mfor\u001b[39;00m i \u001b[38;5;129;01min\u001b[39;00m \u001b[43mos\u001b[49m\u001b[38;5;241;43m.\u001b[39;49m\u001b[43mlistdir\u001b[49m\u001b[43m(\u001b[49m\u001b[43mOldFolder\u001b[49m\u001b[43m)\u001b[49m:\n\u001b[0;32m      2\u001b[0m     \u001b[38;5;28mprint\u001b[39m(i)\n",
      "\u001b[1;31mFileNotFoundError\u001b[0m: [WinError 3] The system cannot find the path specified: '\\\\Data'"
     ]
    }
   ],
   "source": [
    "for i in os.listdir(OldFolder):\n",
    "    print(i)"
   ]
  },
  {
   "cell_type": "code",
   "execution_count": 12,
   "id": "ca2c18a3",
   "metadata": {},
   "outputs": [
    {
     "name": "stdout",
     "output_type": "stream",
     "text": [
      "None\n"
     ]
    }
   ],
   "source": [
    "# Combine The Data:\n",
    "combined_df = combine_csv(OldFolder, Folder)\n",
    "print(combined_df)"
   ]
  },
  {
   "cell_type": "markdown",
   "id": "64137e9e",
   "metadata": {},
   "source": [
    "- **Create an OUTER loop for each year with a progress bar using tqdm_notebook:**"
   ]
  },
  {
   "cell_type": "code",
   "execution_count": null,
   "id": "5c809aeb",
   "metadata": {},
   "outputs": [],
   "source": []
  }
 ],
 "metadata": {
  "kernelspec": {
   "display_name": "Python (dojo-env)",
   "language": "python",
   "name": "dojo-env"
  },
  "language_info": {
   "codemirror_mode": {
    "name": "ipython",
    "version": 3
   },
   "file_extension": ".py",
   "mimetype": "text/x-python",
   "name": "python",
   "nbconvert_exporter": "python",
   "pygments_lexer": "ipython3",
   "version": "3.9.15"
  },
  "toc": {
   "base_numbering": 1,
   "nav_menu": {},
   "number_sections": true,
   "sideBar": true,
   "skip_h1_title": false,
   "title_cell": "Table of Contents",
   "title_sidebar": "Contents",
   "toc_cell": false,
   "toc_position": {},
   "toc_section_display": true,
   "toc_window_display": false
  }
 },
 "nbformat": 4,
 "nbformat_minor": 5
}
