{
 "cells": [
  {
   "cell_type": "markdown",
   "id": "f14b9b40",
   "metadata": {},
   "source": [
    "# **More Data** -pt2"
   ]
  },
  {
   "cell_type": "markdown",
   "id": "f5d7c417",
   "metadata": {},
   "source": [
    "Import Modules:"
   ]
  },
  {
   "cell_type": "code",
   "execution_count": 1,
   "id": "f813d93b",
   "metadata": {},
   "outputs": [],
   "source": [
    "import os\n",
    "import pandas as pd\n",
    "import json as js\n",
    "import tmdbsimple as md"
   ]
  },
  {
   "cell_type": "markdown",
   "id": "51ddd3f2",
   "metadata": {},
   "source": [
    "- Designate a folder to save your information:"
   ]
  },
  {
   "cell_type": "code",
   "execution_count": 2,
   "id": "7d41a07b",
   "metadata": {},
   "outputs": [],
   "source": [
    "OldFolder = 'Data'\n",
    "Folder = \"MoreData\""
   ]
  },
  {
   "cell_type": "markdown",
   "id": "12f435db",
   "metadata": {},
   "source": [
    "- **Login to the  Movie API:**"
   ]
  },
  {
   "cell_type": "markdown",
   "id": "ec8806ec",
   "metadata": {},
   "source": [
    "Getting my key:"
   ]
  },
  {
   "cell_type": "code",
   "execution_count": 3,
   "id": "486ba75b",
   "metadata": {},
   "outputs": [
    {
     "name": "stdout",
     "output_type": "stream",
     "text": [
      "f9333936ac8c033efb0442f581fc52a5\n"
     ]
    }
   ],
   "source": [
    "with open(\"moviesDatabase.json\",\"r\") as f:\n",
    "    Key = js.load(f)\n",
    "mkey = Key['API-key']\n",
    "print(mkey)"
   ]
  },
  {
   "cell_type": "markdown",
   "id": "dd15eb42",
   "metadata": {},
   "source": [
    "Get permission:"
   ]
  },
  {
   "cell_type": "code",
   "execution_count": 4,
   "id": "5c809aeb",
   "metadata": {},
   "outputs": [
    {
     "data": {
      "text/plain": [
       "'Syntax: Alias.API_KEY = (Your own API Key) '"
      ]
     },
     "execution_count": 4,
     "metadata": {},
     "output_type": "execute_result"
    }
   ],
   "source": [
    "# Set your TMDB API key\n",
    "md.API_KEY = mkey \n",
    "\"\"\"Syntax: Alias.API_KEY = (Your own API Key) \"\"\"\n",
    "\n",
    "# Here is where you insert your API key so that you an make calls forward typing tmbd\n",
    "## or in my case md."
   ]
  },
  {
   "cell_type": "markdown",
   "id": "a2bec44f",
   "metadata": {},
   "source": [
    "Test your API key:"
   ]
  },
  {
   "cell_type": "code",
   "execution_count": 5,
   "id": "2fe8eb7c",
   "metadata": {},
   "outputs": [
    {
     "data": {
      "text/plain": [
       "{'adult': False,\n",
       " 'backdrop_path': '/cXQH2u7wUIX1eoIdEj51kHXoWhX.jpg',\n",
       " 'belongs_to_collection': None,\n",
       " 'budget': 1350000,\n",
       " 'genres': [{'id': 35, 'name': 'Comedy'}, {'id': 80, 'name': 'Crime'}],\n",
       " 'homepage': 'http://www.universalstudiosentertainment.com/lock-stock-and-two-smoking-barrels/',\n",
       " 'id': 100,\n",
       " 'imdb_id': 'tt0120735',\n",
       " 'original_language': 'en',\n",
       " 'original_title': 'Lock, Stock and Two Smoking Barrels',\n",
       " 'overview': 'A card shark and his unwillingly-enlisted friends need to make a lot of cash quick after losing a sketchy poker match. To do this they decide to pull a heist on a small-time gang who happen to be operating out of the flat next door.',\n",
       " 'popularity': 12.431,\n",
       " 'poster_path': '/8kSerJrhrJWKLk1LViesGcnrUPE.jpg',\n",
       " 'production_companies': [{'id': 491,\n",
       "   'logo_path': '/5LvDUt3KmvRnXQ4NrdWJYHeuA8J.png',\n",
       "   'name': 'Summit Entertainment',\n",
       "   'origin_country': 'US'},\n",
       "  {'id': 21920,\n",
       "   'logo_path': None,\n",
       "   'name': 'The Steve Tisch Company',\n",
       "   'origin_country': ''},\n",
       "  {'id': 13419,\n",
       "   'logo_path': None,\n",
       "   'name': 'SKA Films',\n",
       "   'origin_country': 'GB'},\n",
       "  {'id': 1382,\n",
       "   'logo_path': '/sOg7LGESPH5vCTOIdbMhLuypoLL.png',\n",
       "   'name': 'PolyGram Filmed Entertainment',\n",
       "   'origin_country': 'US'},\n",
       "  {'id': 20076,\n",
       "   'logo_path': '/i9qXGJIP9fGN22PP5jXUVENbyHi.png',\n",
       "   'name': 'HandMade Films',\n",
       "   'origin_country': 'GB'}],\n",
       " 'production_countries': [{'iso_3166_1': 'GB', 'name': 'United Kingdom'},\n",
       "  {'iso_3166_1': 'US', 'name': 'United States of America'}],\n",
       " 'release_date': '1998-08-28',\n",
       " 'revenue': 28356188,\n",
       " 'runtime': 105,\n",
       " 'spoken_languages': [{'english_name': 'English',\n",
       "   'iso_639_1': 'en',\n",
       "   'name': 'English'}],\n",
       " 'status': 'Released',\n",
       " 'tagline': 'A Disgrace to Criminals Everywhere.',\n",
       " 'title': 'Lock, Stock and Two Smoking Barrels',\n",
       " 'video': False,\n",
       " 'vote_average': 8.131,\n",
       " 'vote_count': 5963}"
      ]
     },
     "execution_count": 5,
     "metadata": {},
     "output_type": "execute_result"
    }
   ],
   "source": [
    "# Trying to get a Movie just to check\n",
    "testm = md.Movies(100) \n",
    "\"\"\"Syntax: Alias.Movies(movie id)\"\"\"\n",
    "\n",
    "testm.info() "
   ]
  },
  {
   "cell_type": "code",
   "execution_count": 6,
   "id": "abf9bbfb",
   "metadata": {},
   "outputs": [
    {
     "name": "stdout",
     "output_type": "stream",
     "text": [
      "This Movie was released on: 1998-08-28\n"
     ]
    }
   ],
   "source": [
    "# Check for release date:\n",
    "print('This Movie was released on:', testm.release_date)"
   ]
  },
  {
   "cell_type": "markdown",
   "id": "ff1cc6be",
   "metadata": {},
   "source": [
    "**The Information Above means that our 'API_KEY' was authenticated, now its time to continue with our task**"
   ]
  },
  {
   "cell_type": "markdown",
   "id": "2662e4d0",
   "metadata": {},
   "source": [
    "- ### Task Overview:\n",
    "- Your stakeholder would like you to extract and save the results for movies that meet all of the criteria established in part 1 of the project (You should already have a filtered dataframe saved from part one as a csv.gz file).\n",
    "\n",
    "- As a proof-of-concept, they requested you perform a test extraction of movies that started in 2000 or 2001.\n",
    "\n",
    "- Each year should be saved as a separate .csv.gz file"
   ]
  },
  {
   "cell_type": "markdown",
   "id": "28d06489",
   "metadata": {},
   "source": [
    "**Define any custom functions you will use:**"
   ]
  },
  {
   "cell_type": "markdown",
   "id": "ff50c38f",
   "metadata": {},
   "source": [
    "- Find movies based on year and country:"
   ]
  },
  {
   "cell_type": "code",
   "execution_count": 21,
   "id": "9b81fee4",
   "metadata": {},
   "outputs": [],
   "source": [
    "\"\"\" Get Movies from an specific year and Country:\"\"\"\n",
    "# This function comes from a conversation about Json and APIs: https://chat.openai.com/share/5b4dc4c6-b9e8-4847-81ec-bb2ffa494a2f\n",
    "## The Function will be at the very bottom. There I discovered the 'discover' function.\n",
    "\n",
    "\n",
    "def get_movies(year, country):\n",
    "    # Create a discovery object\n",
    "    discover = md.Discover() # The Discover function will not show you what your available credit is\n",
    "                               ## but instead it will find movies based on the filter you give it.\n",
    "         # Set the desired filters\n",
    "    # Set the desired filters\n",
    "    Filters = {\n",
    "        'primary_release_year': year,\n",
    "        'release_date.gte': year + '-01-01',\n",
    "        'release_date.lte': year + '-12-31',\n",
    "        'production_countries': country\n",
    "    }\n",
    " \n",
    "    # Perform the discovery search\n",
    "    movies = discover.movie(filters= Filters)\n",
    "    \n",
    "    # Convert the movies dictionary to a JSON string\n",
    "    movies_json = js.dumps(movies)\n",
    "\n",
    "    # Return the JSON string\n",
    "    return movies_json"
   ]
  },
  {
   "cell_type": "markdown",
   "id": "7c6b8c8e",
   "metadata": {},
   "source": [
    "Define the years you wish to retrieve:"
   ]
  },
  {
   "cell_type": "code",
   "execution_count": 22,
   "id": "2cce47c9",
   "metadata": {},
   "outputs": [],
   "source": [
    "# years we will use to filter:\n",
    "Year20 = \"2000\"\n",
    "Year21 = \"2001\""
   ]
  },
  {
   "cell_type": "markdown",
   "id": "56f47ad4",
   "metadata": {},
   "source": [
    "Filter The Data from 2000:"
   ]
  },
  {
   "cell_type": "code",
   "execution_count": 23,
   "id": "c778027f",
   "metadata": {},
   "outputs": [],
   "source": [
    "\"\"\"Movies From 2000\"\"\"\n",
    "\n",
    "# Dictionary:\n",
    "Dict20 = get_movies(Year20, \"US\")"
   ]
  },
  {
   "cell_type": "code",
   "execution_count": 24,
   "id": "888e66fb",
   "metadata": {},
   "outputs": [
    {
     "data": {
      "text/plain": [
       "'{\"page\": 1, \"results\": [{\"adult\": false, \"backdrop_path\": \"/oqP1qEZccq5AD9TVTIaO6IGUj7o.jpg\", \"genre_ids\": [14, 28, 12], \"id\": 455476, \"original_language\": \"en\", \"original_title\": \"Knights of the Zodiac\", \"overview\": \"When a headstrong street orphan, Seiya, in search of his abducted sister unwittingly taps into hidden powers, he discovers he might be the only person alive who can protect a reincarnated goddess, sent to watch over humanity. Can he let his past go and embrace his destiny to become a Knight of the Zodiac?\", \"popularity\": 3355.755, \"poster_path\": \"/qW4crfED8mpNDadSmMdi7ZDzhXF.jpg\", \"release_date\": \"2023-04-27\", \"title\": \"Knights of the Zodiac\", \"video\": false, \"vote_average\": 6.5, \"vote_count\": 301}, {\"adult\": false, \"backdrop_path\": \"/4XM8DUTQb3lhLemJC51Jx4a2EuA.jpg\", \"genre_ids\": [28, 80, 53], \"id\": 385687, \"original_language\": \"en\", \"original_title\": \"Fast X\", \"overview\": \"Over many missions and against impossible odds, Dom Toretto and his family have outsmarted, out-nerved and outdriven every foe in their path. Now, they confront the most lethal opponent they\\'ve ever faced: A terrifying threat emerging from the shadows of the past who\\'s fueled by blood revenge, and who is determined to shatter this family and destroy everything\\\\u2014and everyone\\\\u2014that Dom loves, forever.\", \"popularity\": 3283.417, \"poster_path\": \"/fiVW06jE7z9YnO4trhaMEdclSiC.jpg\", \"release_date\": \"2023-05-17\", \"title\": \"Fast X\", \"video\": false, \"vote_average\": 7.3, \"vote_count\": 2409}, {\"adult\": false, \"backdrop_path\": \"/zcySy6dnSmyqiichtDgO7AEeZoq.jpg\", \"genre_ids\": [28, 18, 53], \"id\": 254128, \"original_language\": \"en\", \"original_title\": \"San Andreas\", \"overview\": \"In the aftermath of a massive earthquake in California, a rescue-chopper pilot makes a dangerous journey across the state in order to rescue his estranged daughter.\", \"popularity\": 2439.856, \"poster_path\": \"/2Gfjn962aaFSD6eST6QU3oLDZTo.jpg\", \"release_date\": \"2015-05-27\", \"title\": \"San Andreas\", \"video\": false, \"vote_average\": 6.2, \"vote_count\": 7716}, {\"adult\": false, \"backdrop_path\": \"/4HodYYKEIsGOdinkGi2Ucz6X9i0.jpg\", \"genre_ids\": [28, 12, 16, 878], \"id\": 569094, \"original_language\": \"en\", \"original_title\": \"Spider-Man: Across the Spider-Verse\", \"overview\": \"After reuniting with Gwen Stacy, Brooklyn\\\\u2019s full-time, friendly neighborhood Spider-Man is catapulted across the Multiverse, where he encounters the Spider Society, a team of Spider-People charged with protecting the Multiverse\\\\u2019s very existence. But when the heroes clash on how to handle a new threat, Miles finds himself pitted against the other Spiders and must set out on his own to save those he loves most.\", \"popularity\": 1542.139, \"poster_path\": \"/8Vt6mWEReuy4Of61Lnj5Xj704m8.jpg\", \"release_date\": \"2023-05-31\", \"title\": \"Spider-Man: Across the Spider-Verse\", \"video\": false, \"vote_average\": 8.5, \"vote_count\": 2026}, {\"adult\": false, \"backdrop_path\": \"/7I6VUdPj6tQECNHdviJkUHD2u89.jpg\", \"genre_ids\": [28, 53, 80], \"id\": 603692, \"original_language\": \"en\", \"original_title\": \"John Wick: Chapter 4\", \"overview\": \"With the price on his head ever increasing, John Wick uncovers a path to defeating The High Table. But before he can earn his freedom, Wick must face off against a new enemy with powerful alliances across the globe and forces that turn old friends into foes.\", \"popularity\": 1437.077, \"poster_path\": \"/vZloFAK7NmvMGKE7VkF5UHaz0I.jpg\", \"release_date\": \"2023-03-22\", \"title\": \"John Wick: Chapter 4\", \"video\": false, \"vote_average\": 7.9, \"vote_count\": 3524}, {\"adult\": false, \"backdrop_path\": \"/wRxLAw4l17LqiFcPLkobriPTZAw.jpg\", \"genre_ids\": [28, 53], \"id\": 697843, \"original_language\": \"en\", \"original_title\": \"Extraction 2\", \"overview\": \"Tasked with extracting a family who is at the mercy of a Georgian gangster, Tyler Rake infiltrates one of the world\\'s deadliest prisons in order to save them. But when the extraction gets hot, and the gangster dies in the heat of battle, his equally ruthless brother tracks down Rake and his team to Vienna, in order to get revenge.\", \"popularity\": 1422.453, \"poster_path\": \"/7gKI9hpEMcZUQpNgKrkDzJpbnNS.jpg\", \"release_date\": \"2023-06-09\", \"title\": \"Extraction 2\", \"video\": false, \"vote_average\": 7.6, \"vote_count\": 1168}, {\"adult\": false, \"backdrop_path\": \"/rPBeEi1tU8IhQ9rbdnlLU0d0NR.jpg\", \"genre_ids\": [28, 12, 18], \"id\": 445651, \"original_language\": \"en\", \"original_title\": \"The Darkest Minds\", \"overview\": \"After a disease kills 98% of America\\'s children, the surviving 2% develop superpowers and are placed in internment camps. A 16-year-old girl escapes her camp and joins a group of other teens on the run from the government.\", \"popularity\": 1340.576, \"poster_path\": \"/94RaS52zmsqaiAe1TG20pdbJCZr.jpg\", \"release_date\": \"2018-07-25\", \"title\": \"The Darkest Minds\", \"video\": false, \"vote_average\": 7, \"vote_count\": 2433}, {\"adult\": false, \"backdrop_path\": \"/woJbg7ZqidhpvqFGGMRhWQNoxwa.jpg\", \"genre_ids\": [28, 12, 878], \"id\": 667538, \"original_language\": \"en\", \"original_title\": \"Transformers: Rise of the Beasts\", \"overview\": \"When a new threat capable of destroying the entire planet emerges, Optimus Prime and the Autobots must team up with a powerful faction known as the Maximals. With the fate of humanity hanging in the balance, humans Noah and Elena will do whatever it takes to help the Transformers as they engage in the ultimate battle to save Earth.\", \"popularity\": 1301.343, \"poster_path\": \"/gPbM0MK8CP8A174rmUwGsADNYKD.jpg\", \"release_date\": \"2023-06-06\", \"title\": \"Transformers: Rise of the Beasts\", \"video\": false, \"vote_average\": 7.3, \"vote_count\": 564}, {\"adult\": false, \"backdrop_path\": \"/mV1HOCbUqx7nfFPwledYsvMYHrw.jpg\", \"genre_ids\": [28, 53], \"id\": 47964, \"original_language\": \"en\", \"original_title\": \"A Good Day to Die Hard\", \"overview\": \"Iconoclastic, take-no-prisoners cop John McClane, finds himself for the first time on foreign soil after traveling to Moscow to help his wayward son Jack - unaware that Jack is really a highly-trained CIA operative out to stop a nuclear weapons heist. With the Russian underworld in pursuit, and battling a countdown to war, the two McClanes discover that their opposing methods make them unstoppable heroes.\", \"popularity\": 1274.43, \"poster_path\": \"/qJ0csDXAVFMsNn0cRcjy6W6PxAK.jpg\", \"release_date\": \"2013-02-06\", \"title\": \"A Good Day to Die Hard\", \"video\": false, \"vote_average\": 5.3, \"vote_count\": 5893}, {\"adult\": false, \"backdrop_path\": \"/9n2tJBplPbgR2ca05hS5CKXwP2c.jpg\", \"genre_ids\": [16, 10751, 12, 14, 35], \"id\": 502356, \"original_language\": \"en\", \"original_title\": \"The Super Mario Bros. Movie\", \"overview\": \"While working underground to fix a water main, Brooklyn plumbers\\\\u2014and brothers\\\\u2014Mario and Luigi are transported down a mysterious pipe and wander into a magical new world. But when the brothers are separated, Mario embarks on an epic quest to find Luigi.\", \"popularity\": 1256.912, \"poster_path\": \"/qNBAXBIQlnOThrVvA6mA2B5ggV6.jpg\", \"release_date\": \"2023-04-05\", \"title\": \"The Super Mario Bros. Movie\", \"video\": false, \"vote_average\": 7.8, \"vote_count\": 5398}, {\"adult\": false, \"backdrop_path\": \"/vw3zNfzvnVNF7nIjpiEgcdznfeC.jpg\", \"genre_ids\": [16, 28, 14], \"id\": 664767, \"original_language\": \"en\", \"original_title\": \"Mortal Kombat Legends: Scorpion\\'s Revenge\", \"overview\": \"After the vicious slaughter of his family by stone-cold mercenary Sub-Zero, Hanzo Hasashi is exiled to the torturous Netherrealm. There, in exchange for his servitude to the sinister Quan Chi, he\\\\u2019s given a chance to avenge his family \\\\u2013 and is resurrected as Scorpion, a lost soul bent on revenge. Back on Earthrealm, Lord Raiden gathers a team of elite warriors \\\\u2013 Shaolin monk Liu Kang, Special Forces officer Sonya Blade and action star Johnny Cage \\\\u2013 an unlikely band of heroes with one chance to save humanity. To do this, they must defeat Shang Tsung\\\\u2019s horde of Outworld gladiators and reign over the Mortal Kombat tournament.\", \"popularity\": 1200.439, \"poster_path\": \"/4VlXER3FImHeFuUjBShFamhIp9M.jpg\", \"release_date\": \"2020-04-12\", \"title\": \"Mortal Kombat Legends: Scorpion\\'s Revenge\", \"video\": false, \"vote_average\": 8.2, \"vote_count\": 1227}, {\"adult\": false, \"backdrop_path\": \"/zxnfMi4qW0bdAtcwCogrR9dRrqd.jpg\", \"genre_ids\": [878, 9648, 53], \"id\": 1103825, \"original_language\": \"en\", \"original_title\": \"War of the Worlds: The Attack\", \"overview\": \"Three young astronomers fight to survive a deadly Martian invasion.\", \"popularity\": 1158.38, \"poster_path\": \"/c3CUKHtQUvPvp9NSFsKwYsPLAdW.jpg\", \"release_date\": \"2023-04-21\", \"title\": \"War of the Worlds: The Attack\", \"video\": false, \"vote_average\": 3.2, \"vote_count\": 11}, {\"adult\": false, \"backdrop_path\": \"/cSYLX73WskxCgvpN3MtRkYUSj1T.jpg\", \"genre_ids\": [16, 35, 10751, 14, 10749, 18], \"id\": 976573, \"original_language\": \"en\", \"original_title\": \"Elemental\", \"overview\": \"In a city where fire, water, land and air residents live together, a fiery young woman and a go-with-the-flow guy will discover something elemental: how much they have in common.\", \"popularity\": 1072.694, \"poster_path\": \"/8riWcADI1ekEiBguVB9vkilhiQm.jpg\", \"release_date\": \"2023-06-14\", \"title\": \"Elemental\", \"video\": false, \"vote_average\": 7.5, \"vote_count\": 333}, {\"adult\": false, \"backdrop_path\": \"/ddAQBXqxog1sgjfDf8qeMTuEbMO.jpg\", \"genre_ids\": [878, 28, 16], \"id\": 396263, \"original_language\": \"ja\", \"original_title\": \"GANTZ:O\", \"overview\": \"After being brutally murdered in a subway station, a teen boy awakens to find himself resurrected by a strange computer named Gantz, and forced to fight a large force of invading aliens in Osaka.\", \"popularity\": 1069.233, \"poster_path\": \"/9yTuw6ddf28lItHwgeqFSNtXsaG.jpg\", \"release_date\": \"2016-10-14\", \"title\": \"Gantz:O\", \"video\": false, \"vote_average\": 7.3, \"vote_count\": 634}, {\"adult\": false, \"backdrop_path\": \"/PwI3EfasE9fVuXsmMu9ffJh0Re.jpg\", \"genre_ids\": [27, 9648, 53], \"id\": 406563, \"original_language\": \"en\", \"original_title\": \"Insidious: The Last Key\", \"overview\": \"Parapsychologist Elise Rainier and her team travel to Five Keys, NM, to investigate a man\\\\u2019s claim of a haunting. Terror soon strikes when Rainier realizes that the house he lives in was her family\\\\u2019s old home.\", \"popularity\": 1037.282, \"poster_path\": \"/nb9fc9INMg8kQ8L7sE7XTNsZnUX.jpg\", \"release_date\": \"2018-01-03\", \"title\": \"Insidious: The Last Key\", \"video\": false, \"vote_average\": 6.3, \"vote_count\": 2477}, {\"adult\": false, \"backdrop_path\": \"/dssCw0mUmD4EriUmkwB3PnsGu4q.jpg\", \"genre_ids\": [16, 28, 14], \"id\": 841755, \"original_language\": \"en\", \"original_title\": \"Mortal Kombat Legends: Battle of the Realms\", \"overview\": \"The Earthrealm heroes must journey to the Outworld and fight for the survival of their homeland, invaded by the forces of evil warlord Shao Kahn, in the tournament to end all tournaments: the final Mortal Kombat.\", \"popularity\": 1007.247, \"poster_path\": \"/ablrE8IbWcIrAxMmm4gnPn75AMS.jpg\", \"release_date\": \"2021-08-31\", \"title\": \"Mortal Kombat Legends: Battle of the Realms\", \"video\": false, \"vote_average\": 7.8, \"vote_count\": 360}, {\"adult\": false, \"backdrop_path\": \"/lntyt4OVDbcxA1l7LtwITbrD3FI.jpg\", \"genre_ids\": [10749, 18], \"id\": 1010581, \"original_language\": \"es\", \"original_title\": \"Culpa m\\\\u00eda\", \"overview\": \"Noah must leave her city, boyfriend, and friends to move into William Leister\\'s mansion, the flashy and wealthy husband of her mother Rafaela. As a proud and independent 17 year old, Noah resists living in a mansion surrounded by luxury. However, it is there where she meets Nick, her new stepbrother, and the clash of their strong personalities becomes evident from the very beginning.\", \"popularity\": 954.284, \"poster_path\": \"/w46Vw536HwNnEzOa7J24YH9DPRS.jpg\", \"release_date\": \"2023-06-08\", \"title\": \"My Fault\", \"video\": false, \"vote_average\": 8.3, \"vote_count\": 1047}, {\"adult\": false, \"backdrop_path\": \"/xDEVdWduhRdNS4PzA6wif6FjUQb.jpg\", \"genre_ids\": [28, 14, 53], \"id\": 1036561, \"original_language\": \"en\", \"original_title\": \"Shadow Master\", \"overview\": \"After being slain by a group of criminals, a man is reborn with animal-like superpowers and makes it his mission to right the wrongs of his city.\", \"popularity\": 932.114, \"poster_path\": \"/67ZsRKbItt6B1yHlsJKgfPWOyuJ.jpg\", \"release_date\": \"2022-11-03\", \"title\": \"Shadow Master\", \"video\": false, \"vote_average\": 6.9, \"vote_count\": 58}, {\"adult\": false, \"backdrop_path\": \"/qi6Edc1OPcyENecGtz8TF0DUr9e.jpg\", \"genre_ids\": [27, 9648, 53], \"id\": 423108, \"original_language\": \"en\", \"original_title\": \"The Conjuring: The Devil Made Me Do It\", \"overview\": \"Paranormal investigators Ed and Lorraine Warren encounter what would become one of the most sensational cases from their files. The fight for the soul of a young boy takes them beyond anything they\\'d ever seen before, to mark the first time in U.S. history that a murder suspect would claim demonic possession as a defense.\", \"popularity\": 914.438, \"poster_path\": \"/xbSuFiJbbBWCkyCCKIMfuDCA4yV.jpg\", \"release_date\": \"2021-05-25\", \"title\": \"The Conjuring: The Devil Made Me Do It\", \"video\": false, \"vote_average\": 7.5, \"vote_count\": 5168}, {\"adult\": false, \"backdrop_path\": \"/5YZbUmjbMa3ClvSW1Wj3D6XGolb.jpg\", \"genre_ids\": [28, 878, 12], \"id\": 447365, \"original_language\": \"en\", \"original_title\": \"Guardians of the Galaxy Vol. 3\", \"overview\": \"Peter Quill, still reeling from the loss of Gamora, must rally his team around him to defend the universe along with protecting one of their own. A mission that, if not completed successfully, could quite possibly lead to the end of the Guardians as we know them.\", \"popularity\": 816.21, \"poster_path\": \"/r2J02Z2OpNTctfOSN1Ydgii51I3.jpg\", \"release_date\": \"2023-05-03\", \"title\": \"Guardians of the Galaxy Vol. 3\", \"video\": false, \"vote_average\": 8.1, \"vote_count\": 2167}], \"total_pages\": 39015, \"total_results\": 780289}'"
      ]
     },
     "execution_count": 24,
     "metadata": {},
     "output_type": "execute_result"
    }
   ],
   "source": [
    "# Now we have a Dictionary with movies from the 2000\n",
    "Dict20"
   ]
  },
  {
   "cell_type": "code",
   "execution_count": 25,
   "id": "652e978e",
   "metadata": {},
   "outputs": [
    {
     "name": "stdout",
     "output_type": "stream",
     "text": [
      "<class 'str'>\n"
     ]
    },
    {
     "data": {
      "text/plain": [
       "dict"
      ]
     },
     "execution_count": 25,
     "metadata": {},
     "output_type": "execute_result"
    }
   ],
   "source": [
    "# Make sure it is a Dictionary\n",
    "print(type(Dict20))\n",
    "Dict20 = js.loads(Dict20)\n",
    "type(Dict20)"
   ]
  },
  {
   "cell_type": "code",
   "execution_count": 26,
   "id": "8aeac4eb",
   "metadata": {},
   "outputs": [
    {
     "name": "stdout",
     "output_type": "stream",
     "text": [
      "Knights of the Zodiac\n",
      "Fast X\n",
      "San Andreas\n",
      "Spider-Man: Across the Spider-Verse\n",
      "John Wick: Chapter 4\n",
      "Extraction 2\n",
      "The Darkest Minds\n",
      "Transformers: Rise of the Beasts\n",
      "A Good Day to Die Hard\n",
      "The Super Mario Bros. Movie\n",
      "Mortal Kombat Legends: Scorpion's Revenge\n",
      "War of the Worlds: The Attack\n",
      "Elemental\n",
      "Gantz:O\n",
      "Insidious: The Last Key\n",
      "Mortal Kombat Legends: Battle of the Realms\n",
      "My Fault\n",
      "Shadow Master\n",
      "The Conjuring: The Devil Made Me Do It\n",
      "Guardians of the Galaxy Vol. 3\n"
     ]
    }
   ],
   "source": [
    "# Access the list of movies\n",
    "movies = Dict20['results']\n",
    "\n",
    "# Iterate over the movies and collect titles\n",
    "for movie in movies:\n",
    "    print(movie['title'])"
   ]
  }
 ],
 "metadata": {
  "kernelspec": {
   "display_name": "Python (dojo-env)",
   "language": "python",
   "name": "dojo-env"
  },
  "language_info": {
   "codemirror_mode": {
    "name": "ipython",
    "version": 3
   },
   "file_extension": ".py",
   "mimetype": "text/x-python",
   "name": "python",
   "nbconvert_exporter": "python",
   "pygments_lexer": "ipython3",
   "version": "3.9.15"
  },
  "toc": {
   "base_numbering": 1,
   "nav_menu": {},
   "number_sections": true,
   "sideBar": true,
   "skip_h1_title": false,
   "title_cell": "Table of Contents",
   "title_sidebar": "Contents",
   "toc_cell": false,
   "toc_position": {},
   "toc_section_display": true,
   "toc_window_display": false
  }
 },
 "nbformat": 4,
 "nbformat_minor": 5
}
