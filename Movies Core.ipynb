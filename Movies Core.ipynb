{
 "cells": [
  {
   "cell_type": "markdown",
   "id": "12b2c0ad",
   "metadata": {},
   "source": [
    "# Load the data into your project using pandas:\n",
    "\n",
    "- Open a Python environment or **Jupyter Notebook**.\n",
    "- Import the pandas library: **import pandas as pd**.\n",
    "- Use the copied link addresses to **read each file into a DataFrame()**:"
   ]
  },
  {
   "cell_type": "code",
   "execution_count": 1,
   "id": "bf6f67ec",
   "metadata": {},
   "outputs": [],
   "source": [
    "# Imports\n",
    "import pandas as pd\n",
    "import numpy as np"
   ]
  },
  {
   "cell_type": "code",
   "execution_count": 2,
   "id": "555ebe9c",
   "metadata": {},
   "outputs": [
    {
     "name": "stdout",
     "output_type": "stream",
     "text": [
      "CSV Readings complete\n"
     ]
    }
   ],
   "source": [
    "basics_url = \"https://datasets.imdbws.com/title.basics.tsv.gz\"\n",
    "akas_url = \"https://datasets.imdbws.com/title.akas.tsv.gz\"\n",
    "ratings_url = \"https://datasets.imdbws.com/title.ratings.tsv.gz\"\n",
    "\n",
    "basics = pd.read_csv(basics_url, sep='\\t', low_memory=False)\n",
    "akas = pd.read_csv(akas_url, sep='\\t', low_memory=False)\n",
    "ratings = pd.read_csv(ratings_url, sep='\\t', low_memory=False)\n",
    "print(\"CSV Readings complete\")"
   ]
  },
  {
   "cell_type": "code",
   "execution_count": 3,
   "id": "aba7def3",
   "metadata": {},
   "outputs": [
    {
     "data": {
      "text/html": [
       "<div>\n",
       "<style scoped>\n",
       "    .dataframe tbody tr th:only-of-type {\n",
       "        vertical-align: middle;\n",
       "    }\n",
       "\n",
       "    .dataframe tbody tr th {\n",
       "        vertical-align: top;\n",
       "    }\n",
       "\n",
       "    .dataframe thead th {\n",
       "        text-align: right;\n",
       "    }\n",
       "</style>\n",
       "<table border=\"1\" class=\"dataframe\">\n",
       "  <thead>\n",
       "    <tr style=\"text-align: right;\">\n",
       "      <th></th>\n",
       "      <th>tconst</th>\n",
       "      <th>titleType</th>\n",
       "      <th>primaryTitle</th>\n",
       "      <th>originalTitle</th>\n",
       "      <th>isAdult</th>\n",
       "      <th>startYear</th>\n",
       "      <th>endYear</th>\n",
       "      <th>runtimeMinutes</th>\n",
       "      <th>genres</th>\n",
       "    </tr>\n",
       "  </thead>\n",
       "  <tbody>\n",
       "    <tr>\n",
       "      <th>0</th>\n",
       "      <td>tt0000001</td>\n",
       "      <td>short</td>\n",
       "      <td>Carmencita</td>\n",
       "      <td>Carmencita</td>\n",
       "      <td>0</td>\n",
       "      <td>1894</td>\n",
       "      <td>\\N</td>\n",
       "      <td>1</td>\n",
       "      <td>Documentary,Short</td>\n",
       "    </tr>\n",
       "    <tr>\n",
       "      <th>1</th>\n",
       "      <td>tt0000002</td>\n",
       "      <td>short</td>\n",
       "      <td>Le clown et ses chiens</td>\n",
       "      <td>Le clown et ses chiens</td>\n",
       "      <td>0</td>\n",
       "      <td>1892</td>\n",
       "      <td>\\N</td>\n",
       "      <td>5</td>\n",
       "      <td>Animation,Short</td>\n",
       "    </tr>\n",
       "    <tr>\n",
       "      <th>2</th>\n",
       "      <td>tt0000003</td>\n",
       "      <td>short</td>\n",
       "      <td>Pauvre Pierrot</td>\n",
       "      <td>Pauvre Pierrot</td>\n",
       "      <td>0</td>\n",
       "      <td>1892</td>\n",
       "      <td>\\N</td>\n",
       "      <td>4</td>\n",
       "      <td>Animation,Comedy,Romance</td>\n",
       "    </tr>\n",
       "    <tr>\n",
       "      <th>3</th>\n",
       "      <td>tt0000004</td>\n",
       "      <td>short</td>\n",
       "      <td>Un bon bock</td>\n",
       "      <td>Un bon bock</td>\n",
       "      <td>0</td>\n",
       "      <td>1892</td>\n",
       "      <td>\\N</td>\n",
       "      <td>12</td>\n",
       "      <td>Animation,Short</td>\n",
       "    </tr>\n",
       "    <tr>\n",
       "      <th>4</th>\n",
       "      <td>tt0000005</td>\n",
       "      <td>short</td>\n",
       "      <td>Blacksmith Scene</td>\n",
       "      <td>Blacksmith Scene</td>\n",
       "      <td>0</td>\n",
       "      <td>1893</td>\n",
       "      <td>\\N</td>\n",
       "      <td>1</td>\n",
       "      <td>Comedy,Short</td>\n",
       "    </tr>\n",
       "  </tbody>\n",
       "</table>\n",
       "</div>"
      ],
      "text/plain": [
       "      tconst titleType            primaryTitle           originalTitle  \\\n",
       "0  tt0000001     short              Carmencita              Carmencita   \n",
       "1  tt0000002     short  Le clown et ses chiens  Le clown et ses chiens   \n",
       "2  tt0000003     short          Pauvre Pierrot          Pauvre Pierrot   \n",
       "3  tt0000004     short             Un bon bock             Un bon bock   \n",
       "4  tt0000005     short        Blacksmith Scene        Blacksmith Scene   \n",
       "\n",
       "  isAdult startYear endYear runtimeMinutes                    genres  \n",
       "0       0      1894      \\N              1         Documentary,Short  \n",
       "1       0      1892      \\N              5           Animation,Short  \n",
       "2       0      1892      \\N              4  Animation,Comedy,Romance  \n",
       "3       0      1892      \\N             12           Animation,Short  \n",
       "4       0      1893      \\N              1              Comedy,Short  "
      ]
     },
     "execution_count": 3,
     "metadata": {},
     "output_type": "execute_result"
    }
   ],
   "source": [
    "basics.head()"
   ]
  },
  {
   "cell_type": "markdown",
   "id": "f62703eb",
   "metadata": {},
   "source": [
    "# Perform data preprocessing and filtering:\n",
    "\n",
    "- Replace \"\\N\" with np.nan in each DataFrame: basics.replace({'\\\\N': np.nan}, inplace=True), akas.replace({'\\\\N': np.nan}, inplace=True), ratings.replace({'\\\\N': np.nan}, inplace=True).\n",
    "- Filter the basics DataFrame based on the provided specifications:"
   ]
  },
  {
   "cell_type": "code",
   "execution_count": 4,
   "id": "a549d400",
   "metadata": {},
   "outputs": [
    {
     "name": "stdout",
     "output_type": "stream",
     "text": [
      "NaNs were Replaced Succesfully\n"
     ]
    }
   ],
   "source": [
    "basics = pd.DataFrame(basics).replace({'\\\\N': np.nan})\n",
    "akas = pd.DataFrame(akas).replace({'\\\\N': np.nan})\n",
    "ratings = pd.DataFrame(ratings).replace({'\\\\N': np.nan})\n",
    "\n",
    "print(\"NaNs were Replaced Succesfully\")"
   ]
  },
  {
   "cell_type": "code",
   "execution_count": 5,
   "id": "f47fb532",
   "metadata": {},
   "outputs": [],
   "source": [
    "basics = basics.dropna(subset=['runtimeMinutes', 'genres'])\n",
    "basics = basics[basics['titleType'] == 'movie']\n",
    "basics['startYear'] = pd.to_numeric(basics['startYear'], errors='coerce') # Convert 'startYear' to numeric type\n",
    "basics = basics[(basics['startYear'] >= 2000) & (basics['startYear'] <= 2021)]\n",
    "basics = basics[~basics['genres'].str.contains('documentary', case=False)]"
   ]
  },
  {
   "cell_type": "markdown",
   "id": "2b9a82d7",
   "metadata": {},
   "source": [
    "### Filter the basics DataFrame to include only US movies based on the akas DataFrame:"
   ]
  },
  {
   "cell_type": "code",
   "execution_count": 6,
   "id": "1d866755",
   "metadata": {},
   "outputs": [
    {
     "name": "stdout",
     "output_type": "stream",
     "text": [
      "            titleId  ordering                                      title  \\\n",
      "5         tt0000001         6                                 Carmencita   \n",
      "14        tt0000002         7                     The Clown and His Dogs   \n",
      "33        tt0000005        10                           Blacksmith Scene   \n",
      "36        tt0000005         1                        Blacksmithing Scene   \n",
      "41        tt0000005         6                        Blacksmith Scene #1   \n",
      "...             ...       ...                                        ...   \n",
      "36220084  tt9916560         1  March of Dimes Presents: Once Upon a Dime   \n",
      "36220154  tt9916620         1                          The Copeland Case   \n",
      "36220243  tt9916702         1              Loving London: The Playground   \n",
      "36220286  tt9916756         1                   Pretty Pretty Black Girl   \n",
      "36220302  tt9916764         1                                         38   \n",
      "\n",
      "         region language        types             attributes isOriginalTitle  \n",
      "5            US      NaN  imdbDisplay                    NaN               0  \n",
      "14           US      NaN          NaN  literal English title               0  \n",
      "33           US      NaN  imdbDisplay                    NaN               0  \n",
      "36           US      NaN  alternative                    NaN               0  \n",
      "41           US      NaN  alternative                    NaN               0  \n",
      "...         ...      ...          ...                    ...             ...  \n",
      "36220084     US      NaN  imdbDisplay                    NaN               0  \n",
      "36220154     US      NaN  imdbDisplay                    NaN               0  \n",
      "36220243     US      NaN          NaN                    NaN               0  \n",
      "36220286     US      NaN  imdbDisplay                    NaN               0  \n",
      "36220302     US      NaN  imdbDisplay                    NaN               0  \n",
      "\n",
      "[1444985 rows x 8 columns]\n"
     ]
    }
   ],
   "source": [
    "akas = akas[(akas['region'] == 'US')]\n",
    "print(akas)\n",
    "keepers = basics['tconst'].isin(akas['titleId'])\n",
    "keepers\n",
    "basics = basics[keepers]"
   ]
  },
  {
   "cell_type": "code",
   "execution_count": 7,
   "id": "4b19067a",
   "metadata": {},
   "outputs": [],
   "source": [
    "keepers2 = ratings['tconst'].isin(akas['titleId'])\n",
    "ratings = ratings[keepers2]"
   ]
  },
  {
   "cell_type": "code",
   "execution_count": 8,
   "id": "940af6c4",
   "metadata": {},
   "outputs": [
    {
     "name": "stdout",
     "output_type": "stream",
     "text": [
      "<class 'pandas.core.frame.DataFrame'>\n",
      "Int64Index: 81762 entries, 34803 to 9930477\n",
      "Data columns (total 9 columns):\n",
      " #   Column          Non-Null Count  Dtype  \n",
      "---  ------          --------------  -----  \n",
      " 0   tconst          81762 non-null  object \n",
      " 1   titleType       81762 non-null  object \n",
      " 2   primaryTitle    81762 non-null  object \n",
      " 3   originalTitle   81762 non-null  object \n",
      " 4   isAdult         81762 non-null  object \n",
      " 5   startYear       81762 non-null  float64\n",
      " 6   endYear         0 non-null      object \n",
      " 7   runtimeMinutes  81762 non-null  object \n",
      " 8   genres          81762 non-null  object \n",
      "dtypes: float64(1), object(8)\n",
      "memory usage: 6.2+ MB\n"
     ]
    }
   ],
   "source": [
    "basics.info()"
   ]
  },
  {
   "cell_type": "code",
   "execution_count": 9,
   "id": "3ad9fef7",
   "metadata": {},
   "outputs": [
    {
     "name": "stdout",
     "output_type": "stream",
     "text": [
      "<class 'pandas.core.frame.DataFrame'>\n",
      "Int64Index: 501175 entries, 0 to 1319567\n",
      "Data columns (total 3 columns):\n",
      " #   Column         Non-Null Count   Dtype  \n",
      "---  ------         --------------   -----  \n",
      " 0   tconst         501175 non-null  object \n",
      " 1   averageRating  501175 non-null  float64\n",
      " 2   numVotes       501175 non-null  int64  \n",
      "dtypes: float64(1), int64(1), object(1)\n",
      "memory usage: 15.3+ MB\n"
     ]
    }
   ],
   "source": [
    "ratings.info()"
   ]
  },
  {
   "cell_type": "code",
   "execution_count": 10,
   "id": "2db7f308",
   "metadata": {},
   "outputs": [
    {
     "name": "stdout",
     "output_type": "stream",
     "text": [
      "<class 'pandas.core.frame.DataFrame'>\n",
      "Int64Index: 1444985 entries, 5 to 36220302\n",
      "Data columns (total 8 columns):\n",
      " #   Column           Non-Null Count    Dtype \n",
      "---  ------           --------------    ----- \n",
      " 0   titleId          1444985 non-null  object\n",
      " 1   ordering         1444985 non-null  int64 \n",
      " 2   title            1444985 non-null  object\n",
      " 3   region           1444985 non-null  object\n",
      " 4   language         3951 non-null     object\n",
      " 5   types            980119 non-null   object\n",
      " 6   attributes       46763 non-null    object\n",
      " 7   isOriginalTitle  1443643 non-null  object\n",
      "dtypes: int64(1), object(7)\n",
      "memory usage: 99.2+ MB\n"
     ]
    }
   ],
   "source": [
    "akas.info()"
   ]
  },
  {
   "cell_type": "markdown",
   "id": "4e2a1bff",
   "metadata": {},
   "source": [
    "# Save the filtered DataFrames to compressed CSV files:\n",
    "\n",
    "- Create a \"Data\" folder within your repository if it doesn't already exist.\n",
    "- Use the to_csv method to save each DataFrame with compression:"
   ]
  },
  {
   "cell_type": "code",
   "execution_count": null,
   "id": "9cee0256",
   "metadata": {},
   "outputs": [],
   "source": [
    "basics.to_csv(\"Data/title_basics.csv.gz\", compression='gzip', index=False)\n",
    "akas.to_csv(\"Data/title_akas.csv.gz\", compression='gzip', index=False)\n",
    "ratings.to_csv(\"Data/title_ratings.csv.gz\", compression='gzip', index=False)"
   ]
  },
  {
   "cell_type": "code",
   "execution_count": null,
   "id": "f81e1285",
   "metadata": {},
   "outputs": [],
   "source": [
    "print(\"Check \\\"Data\\\" Folder\")"
   ]
  },
  {
   "cell_type": "code",
   "execution_count": null,
   "id": "bb3339ae",
   "metadata": {},
   "outputs": [],
   "source": [
    "import requests\n",
    "import time\n",
    "\n",
    "max_retries = 3\n",
    "retry_delay = 5\n",
    "\n",
    "def make_api_request(url):\n",
    "    retries = 0\n",
    "    while retries < max_retries:\n",
    "        try:\n",
    "            response = requests.get(url)\n",
    "            if response.status_code == 200:\n",
    "                return response.json()\n",
    "        except requests.exceptions.RequestException:\n",
    "            pass\n",
    "        retries += 1\n",
    "        time.sleep(retry_delay)\n",
    "    \n",
    "    return None\n",
    "\n",
    "# Usage\n",
    "response = make_api_request(url)\n",
    "if response is not None:\n",
    "    # Process the response data\n",
    "else:\n",
    "    print(\"Unable to retrieve data from the API.\")\n"
   ]
  },
  {
   "cell_type": "markdown",
   "id": "41d9ad37",
   "metadata": {},
   "source": [
    "# **<span style=\"color:#266d07\">Part 2[MORE DATA]</span>**"
   ]
  },
  {
   "cell_type": "code",
   "execution_count": null,
   "id": "53fcc368",
   "metadata": {},
   "outputs": [],
   "source": [
    "import requests\n",
    "import json as jn\n",
    "\n",
    "# Load the filtered data from Part 1\n",
    "basics = pd.read_csv(\"Data/title_basics.csv.gz\")\n",
    "akas = pd.read_csv(\"Data/title_akas.csv.gz\")\n",
    "ratings = pd.read_csv(\"Data/title_ratings.csv.gz\")\n",
    "\n",
    "# Function to add certification (MPAA Rating) to movie information\n",
    "def add_certification(movie_info):\n",
    "    movie_id = movie_info['tconst']\n",
    "    url = f\"https://api.themoviedb.org/3/movie/{movie_id}?api_key=e6439afc327b0d52d1d2b3517a3493f8\"\n",
    "    response = requests.get(url)\n",
    "    data = jn.loads(response.content.decode('utf-8'))\n",
    "    \n",
    "    if 'release_dates' in data and 'results' in data['release_dates']:\n",
    "        results = data['release_dates']['results']\n",
    "        for result in results:\n",
    "            if 'iso_3166_1' in result and result['iso_3166_1'] == 'US':\n",
    "                certification = result['release_dates'][0]['certification']\n",
    "                break\n",
    "        else:\n",
    "            certification = None\n",
    "    else:\n",
    "        certification = None\n",
    "    \n",
    "    movie_info['certification'] = certification\n",
    "    return movie_info\n",
    "\n",
    "# Apply certification function to each movie\n",
    "movies_with_certification = basics.apply(add_certification, axis=1)\n",
    "\n",
    "# Filter movies with valid financial information\n",
    "financial_info = movies_with_certification[(movies_with_certification['budget'] > 0) | (movies_with_certification['revenue'] > 0)]\n",
    "\n",
    "# Save results to separate CSV files for each year\n",
    "for year in range(2000, 2002):\n",
    "    year_filtered = financial_info[financial_info['startYear'] == year]\n",
    "    year_filtered.to_csv(f\"Data/year_{year}_financial_info.csv.gz\", compression='gzip', index=False)\n",
    "\n",
    "# Concatenate the data into one dataframe\n",
    "all_data = pd.concat([pd.read_csv(f\"Data/year_{year}_financial_info.csv.gz\") for year in range(2000, 2002)])\n",
    "\n",
    "# How many movies had at least some valid financial information?\n",
    "valid_financial_info_movies = len(all_data)\n",
    "print(f\"Number of movies with valid financial information: {valid_financial_info_movies}\")\n",
    "\n",
    "# How many movies are there in each certification category?\n",
    "certification_counts = all_data['certification'].value_counts()\n",
    "print(\"Number of movies in each certification category:\")\n",
    "print(certification_counts)\n",
    "\n",
    "# What is the average revenue per certification category?\n",
    "average_revenue_per_certification = all_data.groupby('certification')['revenue'].mean()\n",
    "print(\"Average revenue per certification category:\")\n",
    "print(average_revenue_per_certification)\n",
    "\n",
    "# What is the average budget per certification category?\n",
    "average_budget_per_certification = all_data.groupby('certification')['budget'].mean()\n",
    "print(\"Average budget per certification category:\")\n",
    "print(average_budget_per_certification)"
   ]
  }
 ],
 "metadata": {
  "kernelspec": {
   "display_name": "Python (dojo-env)",
   "language": "python",
   "name": "dojo-env"
  },
  "language_info": {
   "codemirror_mode": {
    "name": "ipython",
    "version": 3
   },
   "file_extension": ".py",
   "mimetype": "text/x-python",
   "name": "python",
   "nbconvert_exporter": "python",
   "pygments_lexer": "ipython3",
   "version": "3.9.15"
  },
  "toc": {
   "base_numbering": 1,
   "nav_menu": {},
   "number_sections": true,
   "sideBar": true,
   "skip_h1_title": false,
   "title_cell": "Table of Contents",
   "title_sidebar": "Contents",
   "toc_cell": false,
   "toc_position": {},
   "toc_section_display": true,
   "toc_window_display": false
  }
 },
 "nbformat": 4,
 "nbformat_minor": 5
}
