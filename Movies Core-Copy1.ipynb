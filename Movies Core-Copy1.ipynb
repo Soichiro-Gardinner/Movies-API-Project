{
 "cells": [
  {
   "cell_type": "markdown",
   "id": "12b2c0ad",
   "metadata": {},
   "source": [
    "# Load the data into your project using pandas:\n",
    "\n",
    "- Open a Python environment or **Jupyter Notebook**.\n",
    "- Import the pandas library: **import pandas as pd**.\n",
    "- Use the copied link addresses to **read each file into a DataFrame()**:"
   ]
  },
  {
   "cell_type": "code",
   "execution_count": 1,
   "id": "bf6f67ec",
   "metadata": {},
   "outputs": [],
   "source": [
    "import pandas as pd\n",
    "import numpy as np\n",
    "import requests\n",
    "import json as jn\n",
    "import multiprocessing"
   ]
  },
  {
   "cell_type": "code",
   "execution_count": 2,
   "id": "555ebe9c",
   "metadata": {},
   "outputs": [],
   "source": [
    "# Set the number of processes for parallel processing\n",
    "num_processes = multiprocessing.cpu_count()\n",
    "\n",
    "# URLs for data retrieval\n",
    "basics_url = \"https://datasets.imdbws.com/title.basics.tsv.gz\"\n",
    "akas_url = \"https://datasets.imdbws.com/title.akas.tsv.gz\"\n",
    "ratings_url = \"https://datasets.imdbws.com/title.ratings.tsv.gz\""
   ]
  },
  {
   "cell_type": "code",
   "execution_count": 3,
   "id": "aba7def3",
   "metadata": {},
   "outputs": [
    {
     "name": "stdout",
     "output_type": "stream",
     "text": [
      "CSV Readings complete\n"
     ]
    },
    {
     "data": {
      "text/html": [
       "<div>\n",
       "<style scoped>\n",
       "    .dataframe tbody tr th:only-of-type {\n",
       "        vertical-align: middle;\n",
       "    }\n",
       "\n",
       "    .dataframe tbody tr th {\n",
       "        vertical-align: top;\n",
       "    }\n",
       "\n",
       "    .dataframe thead th {\n",
       "        text-align: right;\n",
       "    }\n",
       "</style>\n",
       "<table border=\"1\" class=\"dataframe\">\n",
       "  <thead>\n",
       "    <tr style=\"text-align: right;\">\n",
       "      <th></th>\n",
       "      <th>tconst</th>\n",
       "      <th>titleType</th>\n",
       "      <th>primaryTitle</th>\n",
       "      <th>originalTitle</th>\n",
       "      <th>isAdult</th>\n",
       "      <th>startYear</th>\n",
       "      <th>endYear</th>\n",
       "      <th>runtimeMinutes</th>\n",
       "      <th>genres</th>\n",
       "    </tr>\n",
       "  </thead>\n",
       "  <tbody>\n",
       "    <tr>\n",
       "      <th>0</th>\n",
       "      <td>tt0000001</td>\n",
       "      <td>short</td>\n",
       "      <td>Carmencita</td>\n",
       "      <td>Carmencita</td>\n",
       "      <td>0</td>\n",
       "      <td>1894</td>\n",
       "      <td>\\N</td>\n",
       "      <td>1</td>\n",
       "      <td>Documentary,Short</td>\n",
       "    </tr>\n",
       "    <tr>\n",
       "      <th>1</th>\n",
       "      <td>tt0000002</td>\n",
       "      <td>short</td>\n",
       "      <td>Le clown et ses chiens</td>\n",
       "      <td>Le clown et ses chiens</td>\n",
       "      <td>0</td>\n",
       "      <td>1892</td>\n",
       "      <td>\\N</td>\n",
       "      <td>5</td>\n",
       "      <td>Animation,Short</td>\n",
       "    </tr>\n",
       "    <tr>\n",
       "      <th>2</th>\n",
       "      <td>tt0000003</td>\n",
       "      <td>short</td>\n",
       "      <td>Pauvre Pierrot</td>\n",
       "      <td>Pauvre Pierrot</td>\n",
       "      <td>0</td>\n",
       "      <td>1892</td>\n",
       "      <td>\\N</td>\n",
       "      <td>4</td>\n",
       "      <td>Animation,Comedy,Romance</td>\n",
       "    </tr>\n",
       "    <tr>\n",
       "      <th>3</th>\n",
       "      <td>tt0000004</td>\n",
       "      <td>short</td>\n",
       "      <td>Un bon bock</td>\n",
       "      <td>Un bon bock</td>\n",
       "      <td>0</td>\n",
       "      <td>1892</td>\n",
       "      <td>\\N</td>\n",
       "      <td>12</td>\n",
       "      <td>Animation,Short</td>\n",
       "    </tr>\n",
       "    <tr>\n",
       "      <th>4</th>\n",
       "      <td>tt0000005</td>\n",
       "      <td>short</td>\n",
       "      <td>Blacksmith Scene</td>\n",
       "      <td>Blacksmith Scene</td>\n",
       "      <td>0</td>\n",
       "      <td>1893</td>\n",
       "      <td>\\N</td>\n",
       "      <td>1</td>\n",
       "      <td>Comedy,Short</td>\n",
       "    </tr>\n",
       "  </tbody>\n",
       "</table>\n",
       "</div>"
      ],
      "text/plain": [
       "      tconst titleType            primaryTitle           originalTitle  \\\n",
       "0  tt0000001     short              Carmencita              Carmencita   \n",
       "1  tt0000002     short  Le clown et ses chiens  Le clown et ses chiens   \n",
       "2  tt0000003     short          Pauvre Pierrot          Pauvre Pierrot   \n",
       "3  tt0000004     short             Un bon bock             Un bon bock   \n",
       "4  tt0000005     short        Blacksmith Scene        Blacksmith Scene   \n",
       "\n",
       "  isAdult startYear endYear runtimeMinutes                    genres  \n",
       "0       0      1894      \\N              1         Documentary,Short  \n",
       "1       0      1892      \\N              5           Animation,Short  \n",
       "2       0      1892      \\N              4  Animation,Comedy,Romance  \n",
       "3       0      1892      \\N             12           Animation,Short  \n",
       "4       0      1893      \\N              1              Comedy,Short  "
      ]
     },
     "execution_count": 3,
     "metadata": {},
     "output_type": "execute_result"
    }
   ],
   "source": [
    "# Read the data from URLs\n",
    "basics = pd.read_csv(basics_url, sep='\\t', low_memory=False)\n",
    "akas = pd.read_csv(akas_url, sep='\\t', low_memory=False)\n",
    "ratings = pd.read_csv(ratings_url, sep='\\t', low_memory=False)\n",
    "print(\"CSV Readings complete\")\n",
    "basics.head()"
   ]
  },
  {
   "cell_type": "markdown",
   "id": "f62703eb",
   "metadata": {},
   "source": [
    "# Perform data preprocessing and filtering:\n",
    "\n",
    "- Replace \"\\N\" with np.nan in each DataFrame: basics.replace({'\\\\N': np.nan}, inplace=True), akas.replace({'\\\\N': np.nan}, inplace=True), ratings.replace({'\\\\N': np.nan}, inplace=True).\n",
    "- Filter the basics DataFrame based on the provided specifications:"
   ]
  },
  {
   "cell_type": "code",
   "execution_count": 4,
   "id": "a549d400",
   "metadata": {},
   "outputs": [
    {
     "name": "stdout",
     "output_type": "stream",
     "text": [
      "NaNs were Replaced Successfully\n"
     ]
    }
   ],
   "source": [
    "# Replace \"\\N\" with np.nan in each DataFrame\n",
    "basics.replace({'\\\\N': np.nan}, inplace=True)\n",
    "akas.replace({'\\\\N': np.nan}, inplace=True)\n",
    "ratings.replace({'\\\\N': np.nan}, inplace=True)\n",
    "\n",
    "print(\"NaNs were Replaced Successfully\")"
   ]
  },
  {
   "cell_type": "code",
   "execution_count": 5,
   "id": "f47fb532",
   "metadata": {},
   "outputs": [],
   "source": [
    "# Filter basics DataFrame based on the provided specifications\n",
    "basics = basics.dropna(subset=['runtimeMinutes', 'genres'])\n",
    "basics = basics[basics['titleType'] == 'movie']\n",
    "basics['startYear'] = pd.to_numeric(basics['startYear'], errors='coerce')\n",
    "basics = basics[(basics['startYear'] >= 2000) & (basics['startYear'] <= 2021)]\n",
    "basics = basics[~basics['genres'].str.contains('documentary', case=False)]"
   ]
  },
  {
   "cell_type": "markdown",
   "id": "2b9a82d7",
   "metadata": {},
   "source": [
    "### Filter the basics DataFrame to include only US movies based on the akas DataFrame:"
   ]
  },
  {
   "cell_type": "code",
   "execution_count": 6,
   "id": "7e573fa5",
   "metadata": {},
   "outputs": [],
   "source": [
    "# Filter basics DataFrame to include only US movies based on the akas DataFrame\n",
    "us_movies = basics.merge(akas[akas['region'] == 'US'], left_on='tconst', right_on='titleId')"
   ]
  },
  {
   "cell_type": "markdown",
   "id": "4e2a1bff",
   "metadata": {},
   "source": [
    "# Save the filtered DataFrames to compressed CSV files:\n",
    "\n",
    "- Create a \"Data\" folder within your repository if it doesn't already exist.\n",
    "- Use the to_csv method to save each DataFrame with compression:"
   ]
  },
  {
   "cell_type": "code",
   "execution_count": 7,
   "id": "9cee0256",
   "metadata": {},
   "outputs": [],
   "source": [
    "# Function to fetch certification (MPAA Rating) for a batch of movies\n",
    "def fetch_certifications(movie_ids):\n",
    "    url = \"https://api.themoviedb.org/3/movie/{ids}?api_key=e6439afc327b0d52d1d2b3517a3493f8\"\n",
    "    response = requests.get(url.format(ids=','.join(movie_ids)))\n",
    "    data = jn.loads(response.content.decode('utf-8'))\n",
    "    certifications = {}\n",
    "\n",
    "    for result in data['results']:\n",
    "        if 'iso_3166_1' in result and result['iso_3166_1'] == 'US':\n",
    "            certification = result['release_dates'][0]['certification']\n",
    "            certifications[result['id']] = certification\n",
    "\n",
    "    return certifications"
   ]
  },
  {
   "cell_type": "markdown",
   "id": "1ce3e1cb",
   "metadata": {},
   "source": [
    "- **Functions**"
   ]
  },
  {
   "cell_type": "code",
   "execution_count": 8,
   "id": "f81e1285",
   "metadata": {},
   "outputs": [],
   "source": [
    "# Split movie IDs into batches for parallel processing\n",
    "def split_into_batches(lst, batch_size):\n",
    "    return [lst[i:i+batch_size] for i in range(0, len(lst), batch_size)]\n",
    "\n",
    "# Apply certification function to each batch of movies\n",
    "def apply_certification_batch(movie_batch):\n",
    "    certifications = {}\n",
    "    for movie_id in movie_batch:\n",
    "        certifications[movie_id] = add_certification(movie_id)\n",
    "    return certifications\n",
    "\n",
    "# Add certification (MPAA Rating) to movie information\n",
    "def add_certification(movie_id):\n",
    "    url = f\"https://api.themoviedb.org/3/movie/{movie_id}?api_key=e6439afc327b0d52d1d2b3517a3493f8\"\n",
    "    response = requests.get(url)\n",
    "    data = jn.loads(response.content.decode('utf-8'))\n",
    "    \n",
    "    certification = None\n",
    "    if 'release_dates' in data and 'results' in data['release_dates']:\n",
    "        results = data['release_dates']['results']\n",
    "        for result in results:\n",
    "            if 'iso_3166_1' in result and result['iso_3166_1'] == 'US':\n",
    "                certification = result['release_dates'][0]['certification']\n",
    "                break\n",
    "\n",
    "    return certification"
   ]
  },
  {
   "cell_type": "code",
   "execution_count": 9,
   "id": "bb3339ae",
   "metadata": {},
   "outputs": [],
   "source": [
    "# Parallelize certification retrieval using multiprocessing\n",
    "def get_movie_certifications(movie_ids):\n",
    "    pool = multiprocessing.Pool(processes=num_processes)\n",
    "    batches = split_into_batches(movie_ids, batch_size=100)\n",
    "    certifications = pool.map(apply_certification_batch, batches)\n",
    "    pool.close()\n",
    "    pool.join()\n",
    "\n",
    "    movie_certifications = {}\n",
    "    for batch_certifications in certifications:\n",
    "        movie_certifications.update(batch_certifications)\n",
    "\n",
    "    return movie_certifications"
   ]
  },
  {
   "cell_type": "markdown",
   "id": "41d9ad37",
   "metadata": {},
   "source": [
    "# **<span style=\"color:#266d07\">Part 2[MORE DATA]</span>**"
   ]
  },
  {
   "cell_type": "code",
   "execution_count": null,
   "id": "53fcc368",
   "metadata": {},
   "outputs": [],
   "source": [
    "# Apply certification function to each movie\n",
    "movie_ids = us_movies['tconst'].tolist()\n",
    "movie_certifications = get_movie_certifications(movie_ids)\n",
    "us_movies['certification'] = us_movies['tconst'].map(movie_certifications)\n",
    "\n",
    "# Filter movies with valid financial information\n",
    "financial_info = us_movies[(us_movies['budget'] > 0) | (us_movies['revenue'] > 0)]"
   ]
  },
  {
   "cell_type": "markdown",
   "id": "ffd6e710",
   "metadata": {},
   "source": [
    "- Creating a CSV that will contain our results"
   ]
  },
  {
   "cell_type": "code",
   "execution_count": null,
   "id": "75099b86",
   "metadata": {},
   "outputs": [],
   "source": [
    "# Save results to separate CSV files for each year\n",
    "for year in range(2000, 2002):\n",
    "    year_filtered = financial_info[financial_info['startYear'] == year]\n",
    "    year_filtered.to_csv(f\"Data/year_{year}_financial_info.csv.gz\", compression='gzip', index=False)\n",
    "    \n",
    "# Concatenate the data into one DataFrame\n",
    "all_data = pd.concat([pd.read_csv(f\"Data/year_{year}_financial_info.csv.gz\") for year in range(2000, 2002)])\n"
   ]
  },
  {
   "cell_type": "markdown",
   "id": "2e8cb89c",
   "metadata": {},
   "source": [
    "### Questions:"
   ]
  },
  {
   "cell_type": "code",
   "execution_count": null,
   "id": "f640494b",
   "metadata": {},
   "outputs": [],
   "source": [
    "# How many movies had at least some valid financial information?\n",
    "valid_financial_info_movies = len(all_data)\n",
    "print(f\"Number of movies with valid financial information: {valid_financial_info_movies}\")\n",
    "\n",
    "# How many movies are there in each certification category?\n",
    "certification_counts = all_data['certification'].value_counts()\n",
    "print(\"Number of movies in each certification category:\")\n",
    "print(certification_counts)\n",
    "\n",
    "# What is the average revenue per certification category?\n",
    "average_revenue_per_certification = all_data.groupby('certification')['revenue'].mean()\n",
    "print(\"Average revenue per certification category:\")\n",
    "print(average_revenue_per_certification)\n",
    "\n",
    "# What is the average budget per certification category?\n",
    "average_budget_per_certification = all_data.groupby('certification')['budget'].mean()\n",
    "print(\"Average budget per certification category:\")\n",
    "print(average_budget_per)"
   ]
  }
 ],
 "metadata": {
  "kernelspec": {
   "display_name": "Python (dojo-env)",
   "language": "python",
   "name": "dojo-env"
  },
  "language_info": {
   "codemirror_mode": {
    "name": "ipython",
    "version": 3
   },
   "file_extension": ".py",
   "mimetype": "text/x-python",
   "name": "python",
   "nbconvert_exporter": "python",
   "pygments_lexer": "ipython3",
   "version": "3.9.15"
  },
  "toc": {
   "base_numbering": 1,
   "nav_menu": {},
   "number_sections": true,
   "sideBar": true,
   "skip_h1_title": false,
   "title_cell": "Table of Contents",
   "title_sidebar": "Contents",
   "toc_cell": false,
   "toc_position": {},
   "toc_section_display": true,
   "toc_window_display": false
  }
 },
 "nbformat": 4,
 "nbformat_minor": 5
}
