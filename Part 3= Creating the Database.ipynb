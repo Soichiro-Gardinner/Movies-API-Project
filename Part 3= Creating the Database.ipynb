{
 "cells": [
  {
   "cell_type": "markdown",
   "id": "77da7cfa",
   "metadata": {},
   "source": [
    "- **Importing the required libraries and set up the MySQL connection:**"
   ]
  },
  {
   "cell_type": "code",
   "execution_count": 1,
   "id": "e4d78209",
   "metadata": {},
   "outputs": [],
   "source": [
    "# Imports:\n",
    "import pandas as pd\n",
    "from sqlalchemy import create_engine\n",
    "import urllib.parse as up\n",
    "import json"
   ]
  },
  {
   "cell_type": "code",
   "execution_count": 2,
   "id": "4a751315",
   "metadata": {},
   "outputs": [],
   "source": [
    "# MySQL Credentials\n",
    "username = 'root'\n",
    "password = up.quote_plus('OscarRamirez123@')\n",
    "host = 'localhost'\n",
    "database = 'movies'"
   ]
  },
  {
   "cell_type": "code",
   "execution_count": 3,
   "id": "3d437eb8",
   "metadata": {},
   "outputs": [],
   "source": [
    "# Create the connection string\n",
    "connection_str = f'mysql+pymysql://{username}:{password}@{host}/{database}'"
   ]
  },
  {
   "cell_type": "code",
   "execution_count": 4,
   "id": "a0961b08",
   "metadata": {},
   "outputs": [],
   "source": [
    "# Create the engine\n",
    "engine = create_engine(connection_str)"
   ]
  },
  {
   "cell_type": "markdown",
   "id": "ed3003e8",
   "metadata": {},
   "source": [
    "- **Loading the data files and perform necessary transformations:**"
   ]
  },
  {
   "cell_type": "code",
   "execution_count": 5,
   "id": "f15246cb",
   "metadata": {},
   "outputs": [],
   "source": [
    "# Load the title_basics data into a DataFrame\n",
    "df_title_basics = pd.read_csv(\"title_basics-Copy1.csv\")"
   ]
  },
  {
   "cell_type": "code",
   "execution_count": 6,
   "id": "d73e285a",
   "metadata": {},
   "outputs": [],
   "source": [
    "# Normalize the genres column\n",
    "df_title_basics['genres'] = df_title_basics['genres'].str.split(',')"
   ]
  },
  {
   "cell_type": "code",
   "execution_count": 7,
   "id": "62447ace",
   "metadata": {},
   "outputs": [],
   "source": [
    "# Step 2.1: Create the title_genres DataFrame\n",
    "df_title_genres = df_title_basics.explode('genres')[['tconst', 'genres']]"
   ]
  },
  {
   "cell_type": "code",
   "execution_count": 8,
   "id": "d2cc40f7",
   "metadata": {},
   "outputs": [
    {
     "data": {
      "text/plain": [
       "\"Note: I added 1 to the index while creating the 'genre_id' column because in Python, \\n          the index starts from 0 by default. Adding 1 to the index ensures that the genre_id values start from 1, \\n          as expected for primary keys in database tables.\""
      ]
     },
     "execution_count": 8,
     "metadata": {},
     "output_type": "execute_result"
    }
   ],
   "source": [
    "# Step 2.2: Create the genres table\n",
    "df_genres = pd.DataFrame(df_title_genres['genres'].unique(), columns=['genre_name'])\n",
    "df_genres['genre_id'] = df_genres.index + 1\n",
    "\n",
    "\"\"\"Note: I added 1 to the index while creating the 'genre_id' column because in Python, \n",
    "          the index starts from 0 by default. Adding 1 to the index ensures that the genre_id values start from 1, \n",
    "          as expected for primary keys in database tables.\"\"\""
   ]
  },
  {
   "cell_type": "code",
   "execution_count": 9,
   "id": "2ac7f3ee",
   "metadata": {},
   "outputs": [],
   "source": [
    "# Step 2.3: Merge the title_genres DataFrame with the genres table\n",
    "df_title_genres = df_title_genres.merge(df_genres, left_on='genres', right_on='genre_name')[['tconst', 'genre_id']]"
   ]
  },
  {
   "cell_type": "markdown",
   "id": "35407b47",
   "metadata": {},
   "source": [
    "- **Insert data into the \"genres\" and \"title_genres\" tables:**"
   ]
  },
  {
   "cell_type": "code",
   "execution_count": 10,
   "id": "02a17c65",
   "metadata": {},
   "outputs": [
    {
     "data": {
      "text/plain": [
       "25"
      ]
     },
     "execution_count": 10,
     "metadata": {},
     "output_type": "execute_result"
    }
   ],
   "source": [
    "# Insert data into the genres table\n",
    "df_genres.to_sql('genres', engine, if_exists='replace', index=False)"
   ]
  },
  {
   "cell_type": "code",
   "execution_count": 11,
   "id": "ff4e5fd1",
   "metadata": {},
   "outputs": [
    {
     "data": {
      "text/plain": [
       "153249"
      ]
     },
     "execution_count": 11,
     "metadata": {},
     "output_type": "execute_result"
    }
   ],
   "source": [
    "# Insert data into the title_genres table\n",
    "df_title_genres.to_sql('title_genres', engine, if_exists='replace', index=False)"
   ]
  },
  {
   "cell_type": "code",
   "execution_count": 12,
   "id": "c563855c",
   "metadata": {},
   "outputs": [
    {
     "name": "stdout",
     "output_type": "stream",
     "text": [
      "  genre_name  genre_id\n",
      "0     Comedy         1\n",
      "1    Fantasy         2\n",
      "2    Romance         3\n",
      "3      Drama         4\n",
      "4    History         5\n",
      "      tconst  genre_id\n",
      "0  tt0035423         1\n",
      "1  tt0088751         1\n",
      "2  tt0100275         1\n",
      "3  tt0108549         1\n",
      "4  tt0118652         1\n"
     ]
    }
   ],
   "source": [
    "# Verify the tables\n",
    "print(pd.read_sql_query('SELECT * FROM genres LIMIT 5', engine))\n",
    "print(pd.read_sql_query('SELECT * FROM title_genres LIMIT 5', engine))"
   ]
  },
  {
   "cell_type": "markdown",
   "id": "6c8b53c0",
   "metadata": {},
   "source": [
    "- **Read the remaining data files and load them to the created \"tmdb_data\" table:**"
   ]
  },
  {
   "cell_type": "code",
   "execution_count": 13,
   "id": "72ca5e93",
   "metadata": {},
   "outputs": [],
   "source": [
    "# Load the title_ratings data into a DataFrame\n",
    "df_title_ratings = pd.read_csv(\"title_ratings.csv\")"
   ]
  },
  {
   "cell_type": "code",
   "execution_count": 14,
   "id": "31d8f887",
   "metadata": {},
   "outputs": [],
   "source": [
    "folder = \"Data/\"\n",
    "\n",
    "with open(f\"{folder}tmdb_api_results_2000.json\", \"r\") as f:\n",
    "    tmdb_api_results_2000 = json.load(f)\n",
    "\n",
    "with open(f\"{folder}tmdb_api_results_2001.json\", 'r') as a:\n",
    "    tmdb_api_results_2001 = json.load(a)"
   ]
  },
  {
   "cell_type": "code",
   "execution_count": 15,
   "id": "1748479d",
   "metadata": {},
   "outputs": [],
   "source": [
    "# Create the tmdb_data DataFrame for the years 2000 and 2001\n",
    "df_tmdb_data = pd.DataFrame(tmdb_api_results_2000 + tmdb_api_results_2001)"
   ]
  },
  {
   "cell_type": "code",
   "execution_count": 16,
   "id": "061fc471",
   "metadata": {},
   "outputs": [],
   "source": [
    "# Select only the required columns for tmdb_data table\n",
    "df_tmdb_data = df_tmdb_data[['imdb_id', 'revenue', 'budget', 'certification']]"
   ]
  },
  {
   "cell_type": "code",
   "execution_count": 17,
   "id": "e44bcbf6",
   "metadata": {},
   "outputs": [
    {
     "data": {
      "text/plain": [
       "2579"
      ]
     },
     "execution_count": 17,
     "metadata": {},
     "output_type": "execute_result"
    }
   ],
   "source": [
    "# Step 4.1: Create the tmdb_data table\n",
    "df_tmdb_data.to_sql('tmdb_data', engine, if_exists='replace', index=False)"
   ]
  },
  {
   "cell_type": "code",
   "execution_count": 18,
   "id": "9e3b17b3",
   "metadata": {},
   "outputs": [
    {
     "name": "stdout",
     "output_type": "stream",
     "text": [
      "     imdb_id     revenue      budget certification\n",
      "0          0         NaN         NaN          None\n",
      "1  tt0113026         0.0  10000000.0              \n",
      "2  tt0113092         0.0         0.0              \n",
      "3  tt0116391         0.0         0.0          None\n",
      "4  tt0118694  14204632.0    150000.0            PG\n"
     ]
    }
   ],
   "source": [
    "# Verify the first 5 rows of the tmdb_data table\n",
    "print(pd.read_sql_query('SELECT * FROM tmdb_data LIMIT 5', engine))"
   ]
  },
  {
   "cell_type": "markdown",
   "id": "eed61ff2",
   "metadata": {},
   "source": [
    "- **Create the \"title_basics\" and \"title_ratings\" tables:**"
   ]
  },
  {
   "cell_type": "code",
   "execution_count": 19,
   "id": "702f96a5",
   "metadata": {},
   "outputs": [],
   "source": [
    "# Convert the \"genres\" column from list to comma-separated string\n",
    "df_title_basics['genres'] = df_title_basics['genres'].apply(lambda x: ','.join(x))"
   ]
  },
  {
   "cell_type": "code",
   "execution_count": 20,
   "id": "a03f1f0c",
   "metadata": {},
   "outputs": [
    {
     "name": "stdout",
     "output_type": "stream",
     "text": [
      "Done after a 1,000 errors\n"
     ]
    }
   ],
   "source": [
    "from sqlalchemy import VARCHAR, TEXT, FLOAT, INTEGER\n",
    "\n",
    "# Create the title_basics table with the updated \"genres\" column\n",
    "df_title_basics.to_sql('title_basics', engine, dtype={\n",
    "    'tconst': VARCHAR(20),\n",
    "    'titleType': VARCHAR(20),\n",
    "    'primaryTitle': TEXT(),\n",
    "    'originalTitle': TEXT(),\n",
    "    'isAdult': INTEGER(),\n",
    "    'startYear': FLOAT(),\n",
    "    'endYear': FLOAT(),\n",
    "    'runtimeMinutes': INTEGER(),\n",
    "    'genres': TEXT() \n",
    "}, if_exists='replace', index=False)\n",
    "print(\"Done after a 1,000 errors\")"
   ]
  },
  {
   "cell_type": "code",
   "execution_count": 21,
   "id": "f56261ea",
   "metadata": {},
   "outputs": [
    {
     "data": {
      "text/plain": [
       "'ChatGPT examples:'"
      ]
     },
     "execution_count": 21,
     "metadata": {},
     "output_type": "execute_result"
    }
   ],
   "source": [
    "\n",
    "\"\"\"Helpful Link:\"\"\" \n",
    "#                https://docs.sqlalchemy.org/en/20/core/type_basics.html\n",
    "#                https://docs.sqlalchemy.org/en/20/core/exceptions.html\n",
    "\"\"\"ChatGPT examples:\"\"\" #https://chat.openai.com/share/9d6b75d1-d53c-4a69-9df8-43c608e0ba29\n"
   ]
  },
  {
   "cell_type": "code",
   "execution_count": 22,
   "id": "7dff19e7",
   "metadata": {},
   "outputs": [
    {
     "data": {
      "text/plain": [
       "<sqlalchemy.engine.cursor.LegacyCursorResult at 0x25290ec8400>"
      ]
     },
     "execution_count": 22,
     "metadata": {},
     "output_type": "execute_result"
    }
   ],
   "source": [
    "# Step 5.2: Set \"tconst\" as the primary key for title_basics table\n",
    "engine.execute('ALTER TABLE title_basics ADD PRIMARY KEY (`tconst`);')"
   ]
  },
  {
   "cell_type": "code",
   "execution_count": 23,
   "id": "bdcccb9c",
   "metadata": {},
   "outputs": [
    {
     "name": "stdout",
     "output_type": "stream",
     "text": [
      "      tconst titleType                                       primaryTitle  \\\n",
      "0  tt0035423     movie                                     Kate & Leopold   \n",
      "1  tt0043139     movie                        Life of a Beijing Policeman   \n",
      "2  tt0062336     movie  The Tango of the Widower and Its Distorting Mi...   \n",
      "3  tt0069049     movie                         The Other Side of the Wind   \n",
      "4  tt0088751     movie                                  The Naked Monster   \n",
      "\n",
      "                               originalTitle  isAdult  startYear endYear  \\\n",
      "0                             Kate & Leopold        0     2001.0    None   \n",
      "1                           Wo zhe yi bei zi        0     2013.0    None   \n",
      "2  El tango del viudo y su espejo deformante        0     2020.0    None   \n",
      "3                 The Other Side of the Wind        0     2018.0    None   \n",
      "4                          The Naked Monster        0     2005.0    None   \n",
      "\n",
      "   runtimeMinutes                  genres  \n",
      "0             118  Comedy,Fantasy,Romance  \n",
      "1             120           Drama,History  \n",
      "2              70                   Drama  \n",
      "3             122                   Drama  \n",
      "4             100    Comedy,Horror,Sci-Fi  \n"
     ]
    }
   ],
   "source": [
    "# Verify the first 5 rows of the title_basics table\n",
    "print(pd.read_sql_query('SELECT * FROM title_basics LIMIT 5', engine))"
   ]
  },
  {
   "cell_type": "code",
   "execution_count": 25,
   "id": "1ba34c5c",
   "metadata": {},
   "outputs": [],
   "source": [
    "# Convert the \"tconst\" column to string data type\n",
    "df_title_ratings['tconst'] = df_title_ratings['tconst'].astype(str)"
   ]
  },
  {
   "cell_type": "code",
   "execution_count": 26,
   "id": "6e7b27ff",
   "metadata": {},
   "outputs": [
    {
     "name": "stdout",
     "output_type": "stream",
     "text": [
      "Another one Done\n"
     ]
    }
   ],
   "source": [
    "# Create the title_ratings table with the updated \"tconst\" column\n",
    "df_title_ratings.to_sql('title_ratings', engine, dtype={\n",
    "    'tconst': VARCHAR(20),\n",
    "    'averageRating': FLOAT(),\n",
    "    'numVotes': INTEGER()\n",
    "}, if_exists='replace', index=False)\n",
    "print(\"Another one Done\")"
   ]
  },
  {
   "cell_type": "code",
   "execution_count": 27,
   "id": "72b1050c",
   "metadata": {},
   "outputs": [
    {
     "data": {
      "text/plain": [
       "<sqlalchemy.engine.cursor.LegacyCursorResult at 0x2528f272640>"
      ]
     },
     "execution_count": 27,
     "metadata": {},
     "output_type": "execute_result"
    }
   ],
   "source": [
    "# Step 5.4: Set \"tconst\" as the primary key for title_ratings table\n",
    "engine.execute('ALTER TABLE title_ratings ADD PRIMARY KEY (`tconst`);')"
   ]
  },
  {
   "cell_type": "code",
   "execution_count": 28,
   "id": "0f08e3ff",
   "metadata": {},
   "outputs": [
    {
     "name": "stdout",
     "output_type": "stream",
     "text": [
      "      tconst  averageRating  numVotes\n",
      "0  tt0000001            5.7      1982\n",
      "1  tt0000002            5.8       265\n",
      "2  tt0000005            6.2      2624\n",
      "3  tt0000006            5.1       182\n",
      "4  tt0000007            5.4       821\n"
     ]
    }
   ],
   "source": [
    "# Verify the first 5 rows of the title_ratings table\n",
    "print(pd.read_sql_query('SELECT * FROM title_ratings LIMIT 5', engine))"
   ]
  },
  {
   "cell_type": "markdown",
   "id": "ad5aa999",
   "metadata": {},
   "source": [
    "- **Show all the tables in the database:**"
   ]
  },
  {
   "cell_type": "code",
   "execution_count": 29,
   "id": "ba424747",
   "metadata": {},
   "outputs": [
    {
     "name": "stdout",
     "output_type": "stream",
     "text": [
      "  Tables_in_movies\n",
      "0           genres\n",
      "1     title_basics\n",
      "2     title_genres\n",
      "3    title_ratings\n",
      "4        tmdb_data\n"
     ]
    }
   ],
   "source": [
    "# Show all tables in the database\n",
    "print(pd.read_sql_query('SHOW TABLES', engine))"
   ]
  },
  {
   "cell_type": "code",
   "execution_count": 30,
   "id": "d4ff3d53",
   "metadata": {},
   "outputs": [
    {
     "name": "stdout",
     "output_type": "stream",
     "text": [
      "Done, and this time I read the instructions from head to toe ; )\n"
     ]
    }
   ],
   "source": [
    "print(\"Done, and this time I read the instructions from head to toe ; )\")"
   ]
  }
 ],
 "metadata": {
  "kernelspec": {
   "display_name": "Python 3 (ipykernel)",
   "language": "python",
   "name": "python3"
  },
  "language_info": {
   "codemirror_mode": {
    "name": "ipython",
    "version": 3
   },
   "file_extension": ".py",
   "mimetype": "text/x-python",
   "name": "python",
   "nbconvert_exporter": "python",
   "pygments_lexer": "ipython3",
   "version": "3.9.15"
  },
  "toc": {
   "base_numbering": 1,
   "nav_menu": {},
   "number_sections": true,
   "sideBar": true,
   "skip_h1_title": false,
   "title_cell": "Table of Contents",
   "title_sidebar": "Contents",
   "toc_cell": false,
   "toc_position": {},
   "toc_section_display": true,
   "toc_window_display": false
  }
 },
 "nbformat": 4,
 "nbformat_minor": 5
}
