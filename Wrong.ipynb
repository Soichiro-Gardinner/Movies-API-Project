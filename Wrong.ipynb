{
 "cells": [
  {
   "cell_type": "code",
   "execution_count": 1,
   "id": "4740609f",
   "metadata": {},
   "outputs": [],
   "source": [
    "# Imports\n",
    "from sqlalchemy import create_engine\n",
    "import urllib.parse as up\n",
    "import json\n",
    "import pandas as pd"
   ]
  },
  {
   "cell_type": "markdown",
   "id": "81924734",
   "metadata": {},
   "source": [
    "- **Login to My SQL**"
   ]
  },
  {
   "cell_type": "code",
   "execution_count": 2,
   "id": "37169ed5",
   "metadata": {},
   "outputs": [],
   "source": [
    "# SQL Credentials\n",
    "username = 'root'\n",
    "password = up.quote_plus('OscarRamirez123@')\n",
    "host = 'localhost'\n",
    "database = \"movies\"\n",
    "\n",
    "# Create the connection string\n",
    "connection_str = f'mysql+pymysql://{username}:{password}@{host}/{database}'\n",
    "\n",
    "# Create the engine\n",
    "engine = create_engine(connection_str)"
   ]
  },
  {
   "cell_type": "markdown",
   "id": "0cc37f47",
   "metadata": {},
   "source": [
    "- **Load Data files**"
   ]
  },
  {
   "cell_type": "code",
   "execution_count": 3,
   "id": "37b6e9f2",
   "metadata": {},
   "outputs": [
    {
     "data": {
      "text/html": [
       "<div>\n",
       "<style scoped>\n",
       "    .dataframe tbody tr th:only-of-type {\n",
       "        vertical-align: middle;\n",
       "    }\n",
       "\n",
       "    .dataframe tbody tr th {\n",
       "        vertical-align: top;\n",
       "    }\n",
       "\n",
       "    .dataframe thead th {\n",
       "        text-align: right;\n",
       "    }\n",
       "</style>\n",
       "<table border=\"1\" class=\"dataframe\">\n",
       "  <thead>\n",
       "    <tr style=\"text-align: right;\">\n",
       "      <th></th>\n",
       "      <th>tconst</th>\n",
       "      <th>titleType</th>\n",
       "      <th>primaryTitle</th>\n",
       "      <th>originalTitle</th>\n",
       "      <th>isAdult</th>\n",
       "      <th>startYear</th>\n",
       "      <th>endYear</th>\n",
       "      <th>runtimeMinutes</th>\n",
       "      <th>genres</th>\n",
       "    </tr>\n",
       "  </thead>\n",
       "  <tbody>\n",
       "    <tr>\n",
       "      <th>0</th>\n",
       "      <td>tt0035423</td>\n",
       "      <td>movie</td>\n",
       "      <td>Kate &amp; Leopold</td>\n",
       "      <td>Kate &amp; Leopold</td>\n",
       "      <td>0</td>\n",
       "      <td>2001.0</td>\n",
       "      <td>NaN</td>\n",
       "      <td>118</td>\n",
       "      <td>Comedy,Fantasy,Romance</td>\n",
       "    </tr>\n",
       "    <tr>\n",
       "      <th>1</th>\n",
       "      <td>tt0043139</td>\n",
       "      <td>movie</td>\n",
       "      <td>Life of a Beijing Policeman</td>\n",
       "      <td>Wo zhe yi bei zi</td>\n",
       "      <td>0</td>\n",
       "      <td>2013.0</td>\n",
       "      <td>NaN</td>\n",
       "      <td>120</td>\n",
       "      <td>Drama,History</td>\n",
       "    </tr>\n",
       "    <tr>\n",
       "      <th>2</th>\n",
       "      <td>tt0062336</td>\n",
       "      <td>movie</td>\n",
       "      <td>The Tango of the Widower and Its Distorting Mi...</td>\n",
       "      <td>El tango del viudo y su espejo deformante</td>\n",
       "      <td>0</td>\n",
       "      <td>2020.0</td>\n",
       "      <td>NaN</td>\n",
       "      <td>70</td>\n",
       "      <td>Drama</td>\n",
       "    </tr>\n",
       "    <tr>\n",
       "      <th>3</th>\n",
       "      <td>tt0069049</td>\n",
       "      <td>movie</td>\n",
       "      <td>The Other Side of the Wind</td>\n",
       "      <td>The Other Side of the Wind</td>\n",
       "      <td>0</td>\n",
       "      <td>2018.0</td>\n",
       "      <td>NaN</td>\n",
       "      <td>122</td>\n",
       "      <td>Drama</td>\n",
       "    </tr>\n",
       "    <tr>\n",
       "      <th>4</th>\n",
       "      <td>tt0088751</td>\n",
       "      <td>movie</td>\n",
       "      <td>The Naked Monster</td>\n",
       "      <td>The Naked Monster</td>\n",
       "      <td>0</td>\n",
       "      <td>2005.0</td>\n",
       "      <td>NaN</td>\n",
       "      <td>100</td>\n",
       "      <td>Comedy,Horror,Sci-Fi</td>\n",
       "    </tr>\n",
       "  </tbody>\n",
       "</table>\n",
       "</div>"
      ],
      "text/plain": [
       "      tconst titleType                                       primaryTitle  \\\n",
       "0  tt0035423     movie                                     Kate & Leopold   \n",
       "1  tt0043139     movie                        Life of a Beijing Policeman   \n",
       "2  tt0062336     movie  The Tango of the Widower and Its Distorting Mi...   \n",
       "3  tt0069049     movie                         The Other Side of the Wind   \n",
       "4  tt0088751     movie                                  The Naked Monster   \n",
       "\n",
       "                               originalTitle  isAdult  startYear  endYear  \\\n",
       "0                             Kate & Leopold        0     2001.0      NaN   \n",
       "1                           Wo zhe yi bei zi        0     2013.0      NaN   \n",
       "2  El tango del viudo y su espejo deformante        0     2020.0      NaN   \n",
       "3                 The Other Side of the Wind        0     2018.0      NaN   \n",
       "4                          The Naked Monster        0     2005.0      NaN   \n",
       "\n",
       "   runtimeMinutes                  genres  \n",
       "0             118  Comedy,Fantasy,Romance  \n",
       "1             120           Drama,History  \n",
       "2              70                   Drama  \n",
       "3             122                   Drama  \n",
       "4             100    Comedy,Horror,Sci-Fi  "
      ]
     },
     "execution_count": 3,
     "metadata": {},
     "output_type": "execute_result"
    }
   ],
   "source": [
    "df_title = pd.read_csv(\"title_basics-Copy1.csv\")\n",
    "df_title.head()"
   ]
  },
  {
   "cell_type": "code",
   "execution_count": 4,
   "id": "137cf181",
   "metadata": {},
   "outputs": [],
   "source": [
    "folder = \"Data/\"\n",
    "\n",
    "with open(f\"{folder}tmdb_api_results_2000.json\", \"r\") as f:\n",
    "    tmdb_api_results_2000 = json.load(f)\n",
    "\n",
    "with open(f\"{folder}tmdb_api_results_2001.json\", 'r') as a:\n",
    "    tmdb_api_results_2001 = json.load(a)"
   ]
  },
  {
   "cell_type": "markdown",
   "id": "212792e9",
   "metadata": {},
   "source": [
    "- **Create Tables:**"
   ]
  },
  {
   "cell_type": "code",
   "execution_count": 5,
   "id": "004329b1",
   "metadata": {},
   "outputs": [],
   "source": [
    "# Create the table for 2000\n",
    "engine.execute(\"CREATE TABLE tmdb_data_2000 (\"\n",
    "               \"movie_id VARCHAR(20) PRIMARY KEY, \"\n",
    "               \"revenue BIGINT, \"\n",
    "               \"budget BIGINT, \"\n",
    "               \"certification VARCHAR(10)\"\n",
    "               \")\")\n",
    "\n",
    "# Create the table for 2001\n",
    "engine.execute(\"CREATE TABLE tmdb_data_2001 (\"\n",
    "               \"movie_id VARCHAR(20) PRIMARY KEY, \"\n",
    "               \"revenue BIGINT, \"\n",
    "               \"budget BIGINT, \"\n",
    "               \"certification VARCHAR(10)\"\n",
    "               \")\")\n",
    "\n",
    "# Insert data into the tmdb_data_2000 table\n",
    "for movie in tmdb_api_results_2000:\n",
    "    imdb_id = movie.get('imdb_id')\n",
    "    revenue = movie.get('revenue')\n",
    "    budget = movie.get('budget')\n",
    "    certification = movie.get('certification')\n",
    "\n",
    "    engine.execute(\"INSERT INTO tmdb_data_2000 (movie_id, revenue, budget, certification) \"\n",
    "                   \"VALUES (%s, %s, %s, %s)\",\n",
    "                   (imdb_id, revenue, budget, certification))"
   ]
  },
  {
   "cell_type": "markdown",
   "id": "ce0016de",
   "metadata": {},
   "source": [
    "- **Add Data to the Tables:**"
   ]
  },
  {
   "cell_type": "code",
   "execution_count": 6,
   "id": "8e874b06",
   "metadata": {},
   "outputs": [],
   "source": [
    "# Insert data into the tmdb_data_2001 table\n",
    "for movie in tmdb_api_results_2001:\n",
    "    imdb_id = movie.get('imdb_id')\n",
    "    revenue = movie.get('revenue')\n",
    "    budget = movie.get('budget')\n",
    "    certification = movie.get('certification')\n",
    "\n",
    "    engine.execute(\"INSERT INTO tmdb_data_2001 (movie_id, revenue, budget, certification) \"\n",
    "                   \"VALUES (%s, %s, %s, %s)\",\n",
    "                   (imdb_id, revenue, budget, certification))"
   ]
  },
  {
   "cell_type": "markdown",
   "id": "1786c6b3",
   "metadata": {},
   "source": [
    "- **Check Tables:**"
   ]
  },
  {
   "cell_type": "code",
   "execution_count": 7,
   "id": "ad81c07f",
   "metadata": {},
   "outputs": [],
   "source": [
    "#result_2000 = engine.execute(\"SELECT * FROM tmdb_data_2000\")\n",
    "#for row in result_2000:\n",
    "#    print(row)"
   ]
  },
  {
   "cell_type": "code",
   "execution_count": 8,
   "id": "d806d6d5",
   "metadata": {},
   "outputs": [],
   "source": [
    "#result_2001 = engine.execute(\"SELECT * FROM tmdb_data_2001\")\n",
    "#for row in result_2001:\n",
    "#    print(row)"
   ]
  },
  {
   "cell_type": "markdown",
   "id": "98cead99",
   "metadata": {},
   "source": [
    "- **Creating the Genres Table:**"
   ]
  },
  {
   "cell_type": "code",
   "execution_count": 9,
   "id": "fec0e5e9",
   "metadata": {},
   "outputs": [],
   "source": [
    "# Import pandas:\n",
    "import pandas as pd"
   ]
  },
  {
   "cell_type": "code",
   "execution_count": 10,
   "id": "a61756de",
   "metadata": {},
   "outputs": [],
   "source": [
    "# Load the title basics data into a DataFrame\n",
    "df_title_basics = pd.read_csv(\"title_basics-Copy1.csv\")\n",
    "\n",
    "# Normalize the genres column\n",
    "df_title_basics['genres'] = df_title_basics['genres'].str.split(',')"
   ]
  },
  {
   "cell_type": "code",
   "execution_count": 11,
   "id": "68fab3af",
   "metadata": {},
   "outputs": [],
   "source": [
    "# Create the title_genres DataFrame\n",
    "df_title_genres = df_title_basics.explode('genres')[['tconst', 'genres']]"
   ]
  },
  {
   "cell_type": "code",
   "execution_count": 12,
   "id": "d8665a22",
   "metadata": {},
   "outputs": [],
   "source": [
    "# Create the genres table\n",
    "df_genres = pd.DataFrame(df_title_genres['genres'].unique(), columns=['genre_name'])\n",
    "df_genres['genre_id'] = df_genres.index + 1"
   ]
  },
  {
   "cell_type": "code",
   "execution_count": 13,
   "id": "66012000",
   "metadata": {},
   "outputs": [],
   "source": [
    "# Merge the title_genres DataFrame with the genres table\n",
    "df_title_genres = df_title_genres.merge(df_genres, left_on='genres', right_on='genre_name')[['tconst', 'genre_id']]"
   ]
  },
  {
   "cell_type": "code",
   "execution_count": 14,
   "id": "b4ca889c",
   "metadata": {},
   "outputs": [
    {
     "data": {
      "text/plain": [
       "25"
      ]
     },
     "execution_count": 14,
     "metadata": {},
     "output_type": "execute_result"
    }
   ],
   "source": [
    "# Insert data into the genres table\n",
    "df_genres.to_sql('genres', engine, if_exists='replace', index=False)"
   ]
  },
  {
   "cell_type": "code",
   "execution_count": 15,
   "id": "e6fbf392",
   "metadata": {},
   "outputs": [
    {
     "data": {
      "text/plain": [
       "153249"
      ]
     },
     "execution_count": 15,
     "metadata": {},
     "output_type": "execute_result"
    }
   ],
   "source": [
    "# Insert data into the title_genres table\n",
    "df_title_genres.to_sql('title_genres', engine, if_exists='replace', index=False)"
   ]
  },
  {
   "cell_type": "code",
   "execution_count": 16,
   "id": "9cea7de5",
   "metadata": {},
   "outputs": [
    {
     "name": "stdout",
     "output_type": "stream",
     "text": [
      "  genre_name  genre_id\n",
      "0     Comedy         1\n",
      "1    Fantasy         2\n",
      "2    Romance         3\n",
      "3      Drama         4\n",
      "4    History         5\n",
      "      tconst  genre_id\n",
      "0  tt0035423         1\n",
      "1  tt0088751         1\n",
      "2  tt0100275         1\n",
      "3  tt0108549         1\n",
      "4  tt0118652         1\n"
     ]
    }
   ],
   "source": [
    "# Verify the tables\n",
    "print(pd.read_sql_query('SELECT * FROM genres LIMIT 5', engine))\n",
    "print(pd.read_sql_query('SELECT * FROM title_genres LIMIT 5', engine))"
   ]
  }
 ],
 "metadata": {
  "kernelspec": {
   "display_name": "Python (dojo-env)",
   "language": "python",
   "name": "dojo-env"
  },
  "language_info": {
   "codemirror_mode": {
    "name": "ipython",
    "version": 3
   },
   "file_extension": ".py",
   "mimetype": "text/x-python",
   "name": "python",
   "nbconvert_exporter": "python",
   "pygments_lexer": "ipython3",
   "version": "3.9.15"
  },
  "toc": {
   "base_numbering": 1,
   "nav_menu": {},
   "number_sections": true,
   "sideBar": true,
   "skip_h1_title": false,
   "title_cell": "Table of Contents",
   "title_sidebar": "Contents",
   "toc_cell": false,
   "toc_position": {},
   "toc_section_display": true,
   "toc_window_display": false
  }
 },
 "nbformat": 4,
 "nbformat_minor": 5
}
